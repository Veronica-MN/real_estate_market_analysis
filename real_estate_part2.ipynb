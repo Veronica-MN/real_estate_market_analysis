{
 "cells": [
  {
   "cell_type": "markdown",
   "id": "dedec4d5-3e07-4f32-a9ed-d1167814d308",
   "metadata": {},
   "source": [
    "### Import the relevant Libraries"
   ]
  },
  {
   "cell_type": "code",
   "execution_count": 3,
   "id": "a8bdec35-35fa-44c3-8c50-0711e1500813",
   "metadata": {
    "tags": []
   },
   "outputs": [],
   "source": [
    "import requests\n",
    "import json\n",
    "\n",
    "import pandas as pd\n",
    "import numpy as np\n",
    "\n",
    "import datetime\n",
    "\n",
    "import matplotlib.pyplot as plt\n",
    "import seaborn as sns"
   ]
  },
  {
   "cell_type": "code",
   "execution_count": null,
   "id": "a18f9487-3532-414a-885f-7f4920c45b1d",
   "metadata": {},
   "outputs": [],
   "source": []
  },
  {
   "cell_type": "markdown",
   "id": "2999dd9f-0faf-4eac-bf09-5da596d5d747",
   "metadata": {},
   "source": [
    "# Descriptive Statistics"
   ]
  },
  {
   "cell_type": "code",
   "execution_count": null,
   "id": "26c7ae03-1869-4b37-9ffa-428af07d4193",
   "metadata": {},
   "outputs": [],
   "source": []
  },
  {
   "cell_type": "code",
   "execution_count": 19,
   "id": "50016b0a-aa56-4dc6-a927-7ad587046c31",
   "metadata": {
    "tags": []
   },
   "outputs": [],
   "source": [
    "# Read pickled file\n",
    "data = pd.read_pickle('cleaned_real_estate_data.pkl')"
   ]
  },
  {
   "cell_type": "code",
   "execution_count": 21,
   "id": "49d201bb-81d3-4c17-8311-e71502ece9ea",
   "metadata": {
    "tags": []
   },
   "outputs": [
    {
     "data": {
      "text/html": [
       "<div>\n",
       "<style scoped>\n",
       "    .dataframe tbody tr th:only-of-type {\n",
       "        vertical-align: middle;\n",
       "    }\n",
       "\n",
       "    .dataframe tbody tr th {\n",
       "        vertical-align: top;\n",
       "    }\n",
       "\n",
       "    .dataframe thead th {\n",
       "        text-align: right;\n",
       "    }\n",
       "</style>\n",
       "<table border=\"1\" class=\"dataframe\">\n",
       "  <thead>\n",
       "    <tr style=\"text-align: right;\">\n",
       "      <th></th>\n",
       "      <th>id</th>\n",
       "      <th>building</th>\n",
       "      <th>date_sale</th>\n",
       "      <th>type</th>\n",
       "      <th>property#</th>\n",
       "      <th>area</th>\n",
       "      <th>sold</th>\n",
       "      <th>customerid</th>\n",
       "      <th>price$</th>\n",
       "      <th>individual</th>\n",
       "      <th>birth_date</th>\n",
       "      <th>sex</th>\n",
       "      <th>country</th>\n",
       "      <th>state</th>\n",
       "      <th>purpose</th>\n",
       "      <th>deal_satisfaction</th>\n",
       "      <th>mortgage</th>\n",
       "      <th>source</th>\n",
       "      <th>full_name</th>\n",
       "    </tr>\n",
       "  </thead>\n",
       "  <tbody>\n",
       "    <tr>\n",
       "      <th>0</th>\n",
       "      <td>1030</td>\n",
       "      <td>1</td>\n",
       "      <td>2005-11-01</td>\n",
       "      <td>apartment</td>\n",
       "      <td>30</td>\n",
       "      <td>743.09</td>\n",
       "      <td>1</td>\n",
       "      <td>C0028</td>\n",
       "      <td>246172.68</td>\n",
       "      <td>1.0</td>\n",
       "      <td>1986-06-21</td>\n",
       "      <td>1</td>\n",
       "      <td>USA</td>\n",
       "      <td>California</td>\n",
       "      <td>home</td>\n",
       "      <td>5.0</td>\n",
       "      <td>0.0</td>\n",
       "      <td>website</td>\n",
       "      <td>Madalyn Mercer</td>\n",
       "    </tr>\n",
       "    <tr>\n",
       "      <th>1</th>\n",
       "      <td>1029</td>\n",
       "      <td>1</td>\n",
       "      <td>2005-10-01</td>\n",
       "      <td>apartment</td>\n",
       "      <td>29</td>\n",
       "      <td>756.21</td>\n",
       "      <td>1</td>\n",
       "      <td>C0027</td>\n",
       "      <td>246331.90</td>\n",
       "      <td>1.0</td>\n",
       "      <td>1983-02-24</td>\n",
       "      <td>1</td>\n",
       "      <td>USA</td>\n",
       "      <td>California</td>\n",
       "      <td>home</td>\n",
       "      <td>5.0</td>\n",
       "      <td>0.0</td>\n",
       "      <td>website</td>\n",
       "      <td>Lara Carrillo</td>\n",
       "    </tr>\n",
       "    <tr>\n",
       "      <th>2</th>\n",
       "      <td>2002</td>\n",
       "      <td>2</td>\n",
       "      <td>2007-07-01</td>\n",
       "      <td>apartment</td>\n",
       "      <td>2</td>\n",
       "      <td>587.28</td>\n",
       "      <td>1</td>\n",
       "      <td>C0112</td>\n",
       "      <td>209280.91</td>\n",
       "      <td>1.0</td>\n",
       "      <td>1985-12-27</td>\n",
       "      <td>0</td>\n",
       "      <td>USA</td>\n",
       "      <td>California</td>\n",
       "      <td>home</td>\n",
       "      <td>1.0</td>\n",
       "      <td>1.0</td>\n",
       "      <td>client</td>\n",
       "      <td>Donavan Flowers</td>\n",
       "    </tr>\n",
       "    <tr>\n",
       "      <th>3</th>\n",
       "      <td>2031</td>\n",
       "      <td>2</td>\n",
       "      <td>2007-12-01</td>\n",
       "      <td>apartment</td>\n",
       "      <td>31</td>\n",
       "      <td>1604.75</td>\n",
       "      <td>1</td>\n",
       "      <td>C0160</td>\n",
       "      <td>452667.01</td>\n",
       "      <td>1.0</td>\n",
       "      <td>1985-12-27</td>\n",
       "      <td>0</td>\n",
       "      <td>USA</td>\n",
       "      <td>California</td>\n",
       "      <td>investment</td>\n",
       "      <td>3.0</td>\n",
       "      <td>1.0</td>\n",
       "      <td>website</td>\n",
       "      <td>Darien Dorsey</td>\n",
       "    </tr>\n",
       "    <tr>\n",
       "      <th>4</th>\n",
       "      <td>1049</td>\n",
       "      <td>1</td>\n",
       "      <td>2004-11-01</td>\n",
       "      <td>apartment</td>\n",
       "      <td>49</td>\n",
       "      <td>1375.45</td>\n",
       "      <td>1</td>\n",
       "      <td>C0014</td>\n",
       "      <td>467083.31</td>\n",
       "      <td>1.0</td>\n",
       "      <td>1979-05-15</td>\n",
       "      <td>1</td>\n",
       "      <td>USA</td>\n",
       "      <td>California</td>\n",
       "      <td>home</td>\n",
       "      <td>4.0</td>\n",
       "      <td>0.0</td>\n",
       "      <td>agency</td>\n",
       "      <td>Alessandra Perry</td>\n",
       "    </tr>\n",
       "    <tr>\n",
       "      <th>...</th>\n",
       "      <td>...</td>\n",
       "      <td>...</td>\n",
       "      <td>...</td>\n",
       "      <td>...</td>\n",
       "      <td>...</td>\n",
       "      <td>...</td>\n",
       "      <td>...</td>\n",
       "      <td>...</td>\n",
       "      <td>...</td>\n",
       "      <td>...</td>\n",
       "      <td>...</td>\n",
       "      <td>...</td>\n",
       "      <td>...</td>\n",
       "      <td>...</td>\n",
       "      <td>...</td>\n",
       "      <td>...</td>\n",
       "      <td>...</td>\n",
       "      <td>...</td>\n",
       "      <td>...</td>\n",
       "    </tr>\n",
       "    <tr>\n",
       "      <th>262</th>\n",
       "      <td>5044</td>\n",
       "      <td>5</td>\n",
       "      <td>NaT</td>\n",
       "      <td>apartment</td>\n",
       "      <td>44</td>\n",
       "      <td>1238.58</td>\n",
       "      <td>0</td>\n",
       "      <td>NaN</td>\n",
       "      <td>322610.74</td>\n",
       "      <td>NaN</td>\n",
       "      <td>NaT</td>\n",
       "      <td>NaN</td>\n",
       "      <td>NaN</td>\n",
       "      <td>NaN</td>\n",
       "      <td>NaN</td>\n",
       "      <td>NaN</td>\n",
       "      <td>NaN</td>\n",
       "      <td>NaN</td>\n",
       "      <td>NaN</td>\n",
       "    </tr>\n",
       "    <tr>\n",
       "      <th>263</th>\n",
       "      <td>5047</td>\n",
       "      <td>5</td>\n",
       "      <td>NaT</td>\n",
       "      <td>apartment</td>\n",
       "      <td>47</td>\n",
       "      <td>794.52</td>\n",
       "      <td>0</td>\n",
       "      <td>NaN</td>\n",
       "      <td>279191.26</td>\n",
       "      <td>NaN</td>\n",
       "      <td>NaT</td>\n",
       "      <td>NaN</td>\n",
       "      <td>NaN</td>\n",
       "      <td>NaN</td>\n",
       "      <td>NaN</td>\n",
       "      <td>NaN</td>\n",
       "      <td>NaN</td>\n",
       "      <td>NaN</td>\n",
       "      <td>NaN</td>\n",
       "    </tr>\n",
       "    <tr>\n",
       "      <th>264</th>\n",
       "      <td>5048</td>\n",
       "      <td>5</td>\n",
       "      <td>NaT</td>\n",
       "      <td>apartment</td>\n",
       "      <td>48</td>\n",
       "      <td>1013.27</td>\n",
       "      <td>0</td>\n",
       "      <td>NaN</td>\n",
       "      <td>287996.53</td>\n",
       "      <td>NaN</td>\n",
       "      <td>NaT</td>\n",
       "      <td>NaN</td>\n",
       "      <td>NaN</td>\n",
       "      <td>NaN</td>\n",
       "      <td>NaN</td>\n",
       "      <td>NaN</td>\n",
       "      <td>NaN</td>\n",
       "      <td>NaN</td>\n",
       "      <td>NaN</td>\n",
       "    </tr>\n",
       "    <tr>\n",
       "      <th>265</th>\n",
       "      <td>5050</td>\n",
       "      <td>5</td>\n",
       "      <td>NaT</td>\n",
       "      <td>apartment</td>\n",
       "      <td>50</td>\n",
       "      <td>1074.71</td>\n",
       "      <td>0</td>\n",
       "      <td>NaN</td>\n",
       "      <td>365868.78</td>\n",
       "      <td>NaN</td>\n",
       "      <td>NaT</td>\n",
       "      <td>NaN</td>\n",
       "      <td>NaN</td>\n",
       "      <td>NaN</td>\n",
       "      <td>NaN</td>\n",
       "      <td>NaN</td>\n",
       "      <td>NaN</td>\n",
       "      <td>NaN</td>\n",
       "      <td>NaN</td>\n",
       "    </tr>\n",
       "    <tr>\n",
       "      <th>266</th>\n",
       "      <td>5051</td>\n",
       "      <td>5</td>\n",
       "      <td>NaT</td>\n",
       "      <td>apartment</td>\n",
       "      <td>51</td>\n",
       "      <td>789.25</td>\n",
       "      <td>0</td>\n",
       "      <td>NaN</td>\n",
       "      <td>199216.40</td>\n",
       "      <td>NaN</td>\n",
       "      <td>NaT</td>\n",
       "      <td>NaN</td>\n",
       "      <td>NaN</td>\n",
       "      <td>NaN</td>\n",
       "      <td>NaN</td>\n",
       "      <td>NaN</td>\n",
       "      <td>NaN</td>\n",
       "      <td>NaN</td>\n",
       "      <td>NaN</td>\n",
       "    </tr>\n",
       "  </tbody>\n",
       "</table>\n",
       "<p>267 rows × 19 columns</p>\n",
       "</div>"
      ],
      "text/plain": [
       "       id building  date_sale       type property#     area  sold customerid  \\\n",
       "0    1030        1 2005-11-01  apartment        30   743.09     1      C0028   \n",
       "1    1029        1 2005-10-01  apartment        29   756.21     1      C0027   \n",
       "2    2002        2 2007-07-01  apartment         2   587.28     1      C0112   \n",
       "3    2031        2 2007-12-01  apartment        31  1604.75     1      C0160   \n",
       "4    1049        1 2004-11-01  apartment        49  1375.45     1      C0014   \n",
       "..    ...      ...        ...        ...       ...      ...   ...        ...   \n",
       "262  5044        5        NaT  apartment        44  1238.58     0        NaN   \n",
       "263  5047        5        NaT  apartment        47   794.52     0        NaN   \n",
       "264  5048        5        NaT  apartment        48  1013.27     0        NaN   \n",
       "265  5050        5        NaT  apartment        50  1074.71     0        NaN   \n",
       "266  5051        5        NaT  apartment        51   789.25     0        NaN   \n",
       "\n",
       "        price$  individual birth_date  sex country       state     purpose  \\\n",
       "0    246172.68         1.0 1986-06-21    1     USA  California        home   \n",
       "1    246331.90         1.0 1983-02-24    1     USA  California        home   \n",
       "2    209280.91         1.0 1985-12-27    0     USA  California        home   \n",
       "3    452667.01         1.0 1985-12-27    0     USA  California  investment   \n",
       "4    467083.31         1.0 1979-05-15    1     USA  California        home   \n",
       "..         ...         ...        ...  ...     ...         ...         ...   \n",
       "262  322610.74         NaN        NaT  NaN     NaN         NaN         NaN   \n",
       "263  279191.26         NaN        NaT  NaN     NaN         NaN         NaN   \n",
       "264  287996.53         NaN        NaT  NaN     NaN         NaN         NaN   \n",
       "265  365868.78         NaN        NaT  NaN     NaN         NaN         NaN   \n",
       "266  199216.40         NaN        NaT  NaN     NaN         NaN         NaN   \n",
       "\n",
       "     deal_satisfaction  mortgage   source         full_name  \n",
       "0                  5.0       0.0  website    Madalyn Mercer  \n",
       "1                  5.0       0.0  website     Lara Carrillo  \n",
       "2                  1.0       1.0   client   Donavan Flowers  \n",
       "3                  3.0       1.0  website     Darien Dorsey  \n",
       "4                  4.0       0.0   agency  Alessandra Perry  \n",
       "..                 ...       ...      ...               ...  \n",
       "262                NaN       NaN      NaN               NaN  \n",
       "263                NaN       NaN      NaN               NaN  \n",
       "264                NaN       NaN      NaN               NaN  \n",
       "265                NaN       NaN      NaN               NaN  \n",
       "266                NaN       NaN      NaN               NaN  \n",
       "\n",
       "[267 rows x 19 columns]"
      ]
     },
     "execution_count": 21,
     "metadata": {},
     "output_type": "execute_result"
    }
   ],
   "source": [
    "data"
   ]
  },
  {
   "cell_type": "code",
   "execution_count": null,
   "id": "d2e867b3-bf2f-4153-bbcf-851264738a86",
   "metadata": {},
   "outputs": [],
   "source": []
  },
  {
   "cell_type": "markdown",
   "id": "a38a21c0-4922-45ee-b70c-6620e9890458",
   "metadata": {},
   "source": [
    "# Breakdowns by Building\n",
    "\n",
    "We can examine:\n",
    "1. Breakdown of totals by building (frequency distribution by building)\n",
    "2. Breakdown of averages by building"
   ]
  },
  {
   "cell_type": "code",
   "execution_count": 24,
   "id": "a2a43dfb-3c81-4d7c-9d26-c88657768e4b",
   "metadata": {
    "tags": []
   },
   "outputs": [
    {
     "data": {
      "text/plain": [
       "array(['1', '2', '3', '4', '5'], dtype=object)"
      ]
     },
     "execution_count": 24,
     "metadata": {},
     "output_type": "execute_result"
    }
   ],
   "source": [
    "# identify the unique buildings in the dataset.\n",
    "data['building'].unique()"
   ]
  },
  {
   "cell_type": "code",
   "execution_count": null,
   "id": "3e199109-4299-4f5c-b55c-80668411d93b",
   "metadata": {},
   "outputs": [],
   "source": []
  },
  {
   "cell_type": "code",
   "execution_count": 26,
   "id": "4a0a328f-634a-4081-a093-0c784fc795cc",
   "metadata": {
    "tags": []
   },
   "outputs": [
    {
     "data": {
      "text/plain": [
       "<pandas.core.groupby.generic.DataFrameGroupBy object at 0x17c5c9110>"
      ]
     },
     "execution_count": 26,
     "metadata": {},
     "output_type": "execute_result"
    }
   ],
   "source": [
    "# grouping the data by 'building'.\n",
    "data.groupby('building')"
   ]
  },
  {
   "cell_type": "code",
   "execution_count": 30,
   "id": "c6087427-8480-422e-a7ad-260c1c7e71e7",
   "metadata": {
    "tags": []
   },
   "outputs": [],
   "source": [
    "# However, there seems to be excessive information here, and the sum of certain variables,\n",
    "# such as 'area', does not provide meaningful insights when aggregated.\n",
    "# Therefore, it would make sense to select a subset of 'data' to aggregate."
   ]
  },
  {
   "cell_type": "code",
   "execution_count": null,
   "id": "a0b71973-821a-4632-90c4-4b2990e8dc5c",
   "metadata": {},
   "outputs": [],
   "source": []
  },
  {
   "cell_type": "markdown",
   "id": "a96c7b34-5673-4677-a012-0d975bfcc5b1",
   "metadata": {},
   "source": [
    "### Breakdown of totals by Building"
   ]
  },
  {
   "cell_type": "code",
   "execution_count": 32,
   "id": "01bdb93b-7522-465b-bbc3-602da32f8a06",
   "metadata": {
    "tags": []
   },
   "outputs": [
    {
     "data": {
      "text/html": [
       "<div>\n",
       "<style scoped>\n",
       "    .dataframe tbody tr th:only-of-type {\n",
       "        vertical-align: middle;\n",
       "    }\n",
       "\n",
       "    .dataframe tbody tr th {\n",
       "        vertical-align: top;\n",
       "    }\n",
       "\n",
       "    .dataframe thead th {\n",
       "        text-align: right;\n",
       "    }\n",
       "</style>\n",
       "<table border=\"1\" class=\"dataframe\">\n",
       "  <thead>\n",
       "    <tr style=\"text-align: right;\">\n",
       "      <th></th>\n",
       "      <th>sold</th>\n",
       "      <th>mortgage</th>\n",
       "    </tr>\n",
       "    <tr>\n",
       "      <th>building</th>\n",
       "      <th></th>\n",
       "      <th></th>\n",
       "    </tr>\n",
       "  </thead>\n",
       "  <tbody>\n",
       "    <tr>\n",
       "      <th>1</th>\n",
       "      <td>46</td>\n",
       "      <td>14.0</td>\n",
       "    </tr>\n",
       "    <tr>\n",
       "      <th>2</th>\n",
       "      <td>54</td>\n",
       "      <td>18.0</td>\n",
       "    </tr>\n",
       "    <tr>\n",
       "      <th>3</th>\n",
       "      <td>53</td>\n",
       "      <td>15.0</td>\n",
       "    </tr>\n",
       "    <tr>\n",
       "      <th>4</th>\n",
       "      <td>23</td>\n",
       "      <td>9.0</td>\n",
       "    </tr>\n",
       "    <tr>\n",
       "      <th>5</th>\n",
       "      <td>19</td>\n",
       "      <td>6.0</td>\n",
       "    </tr>\n",
       "  </tbody>\n",
       "</table>\n",
       "</div>"
      ],
      "text/plain": [
       "          sold  mortgage\n",
       "building                \n",
       "1           46      14.0\n",
       "2           54      18.0\n",
       "3           53      15.0\n",
       "4           23       9.0\n",
       "5           19       6.0"
      ]
     },
     "execution_count": 32,
     "metadata": {},
     "output_type": "execute_result"
    }
   ],
   "source": [
    "# create a variable to hold the columns of interest for a more structured approach\n",
    "# This variable will include the column to group by and the columns to aggregate.\n",
    "# the total number of properties sold and those under mortgage per building - these would represent total counts.\n",
    "# Also, examine the average area, price, and deal satisfaction by building.\n",
    "\n",
    "# getting total counts per building.\n",
    "columns_of_interest = ['building', 'sold','mortgage']\n",
    "\n",
    "# create a new variable to hold the total counts grouped by building.\n",
    "totals_by_building = data[columns_of_interest].groupby(\"building\").sum()\n",
    "totals_by_building \n",
    "\n",
    "# Note that 'mortgage' here is a float, a side effect of the 'merge' from part1 ( cleaning and preprocessing).\n",
    "# it does not affect the analysis"
   ]
  },
  {
   "cell_type": "code",
   "execution_count": null,
   "id": "f24b6ae0-a935-4678-8ddd-c2825b853e65",
   "metadata": {},
   "outputs": [],
   "source": []
  },
  {
   "cell_type": "markdown",
   "id": "5ec14e1c-859d-4416-8792-5001f6e787b5",
   "metadata": {},
   "source": [
    "### Breakdown of averages by building"
   ]
  },
  {
   "cell_type": "code",
   "execution_count": 36,
   "id": "8110c3cd-79f7-462a-9385-11766620d13f",
   "metadata": {
    "tags": []
   },
   "outputs": [
    {
     "data": {
      "text/html": [
       "<div>\n",
       "<style scoped>\n",
       "    .dataframe tbody tr th:only-of-type {\n",
       "        vertical-align: middle;\n",
       "    }\n",
       "\n",
       "    .dataframe tbody tr th {\n",
       "        vertical-align: top;\n",
       "    }\n",
       "\n",
       "    .dataframe thead th {\n",
       "        text-align: right;\n",
       "    }\n",
       "</style>\n",
       "<table border=\"1\" class=\"dataframe\">\n",
       "  <thead>\n",
       "    <tr style=\"text-align: right;\">\n",
       "      <th></th>\n",
       "      <th>area</th>\n",
       "      <th>price$</th>\n",
       "      <th>deal_satisfaction</th>\n",
       "    </tr>\n",
       "    <tr>\n",
       "      <th>building</th>\n",
       "      <th></th>\n",
       "      <th></th>\n",
       "      <th></th>\n",
       "    </tr>\n",
       "  </thead>\n",
       "  <tbody>\n",
       "    <tr>\n",
       "      <th>1</th>\n",
       "      <td>928.038846</td>\n",
       "      <td>275143.242500</td>\n",
       "      <td>3.630435</td>\n",
       "    </tr>\n",
       "    <tr>\n",
       "      <th>2</th>\n",
       "      <td>943.891930</td>\n",
       "      <td>286661.848246</td>\n",
       "      <td>3.518519</td>\n",
       "    </tr>\n",
       "    <tr>\n",
       "      <th>3</th>\n",
       "      <td>927.852381</td>\n",
       "      <td>280451.255556</td>\n",
       "      <td>3.566038</td>\n",
       "    </tr>\n",
       "    <tr>\n",
       "      <th>4</th>\n",
       "      <td>974.720930</td>\n",
       "      <td>290239.515581</td>\n",
       "      <td>3.869565</td>\n",
       "    </tr>\n",
       "    <tr>\n",
       "      <th>5</th>\n",
       "      <td>914.298654</td>\n",
       "      <td>274557.604615</td>\n",
       "      <td>3.526316</td>\n",
       "    </tr>\n",
       "  </tbody>\n",
       "</table>\n",
       "</div>"
      ],
      "text/plain": [
       "                area         price$  deal_satisfaction\n",
       "building                                              \n",
       "1         928.038846  275143.242500           3.630435\n",
       "2         943.891930  286661.848246           3.518519\n",
       "3         927.852381  280451.255556           3.566038\n",
       "4         974.720930  290239.515581           3.869565\n",
       "5         914.298654  274557.604615           3.526316"
      ]
     },
     "execution_count": 36,
     "metadata": {},
     "output_type": "execute_result"
    }
   ],
   "source": [
    "# get average values. Here is the relevant list of columns.\n",
    "# overwriting the 'columns_of_interest' variable.\n",
    "\n",
    "# using this variable as a temporary holder of the list of columns of interest\n",
    "\n",
    "columns_of_interest = ['building', 'area', 'price$', 'deal_satisfaction']\n",
    "\n",
    "# create a new variable to hold the average values grouped by building.\n",
    "averages_by_building = data[columns_of_interest].groupby(\"building\").mean()\n",
    "averages_by_building"
   ]
  },
  {
   "cell_type": "code",
   "execution_count": null,
   "id": "daa87413-898a-4e9a-bdf6-5089b2e3c3d0",
   "metadata": {},
   "outputs": [],
   "source": []
  },
  {
   "cell_type": "markdown",
   "id": "0c273f6a-1114-4780-91b7-a3eed452717a",
   "metadata": {},
   "source": [
    "### Breakdowns by country and state\n",
    "\n",
    "Country\n",
    "1. Breakdown of totals by country (frequency distribution by country)\n",
    "2. Breakdown of averages by country\n",
    "\n",
    "State\n",
    "3. Frequency distribution by state\n",
    "4. Relative frequency by state\n",
    "5. Cumulative frequency by state"
   ]
  },
  {
   "cell_type": "code",
   "execution_count": null,
   "id": "07624901-882d-4d5a-910b-2830bd3814e2",
   "metadata": {},
   "outputs": [],
   "source": []
  },
  {
   "cell_type": "markdown",
   "id": "f0ddba05-7099-4bed-8d59-9c974ea86c04",
   "metadata": {},
   "source": [
    "#### Breakdown of totals by Country"
   ]
  },
  {
   "cell_type": "code",
   "execution_count": 54,
   "id": "0411e389-a5ab-454f-8a39-2a7fc661557f",
   "metadata": {
    "tags": []
   },
   "outputs": [],
   "source": [
    "# there is a duplication of the USA entries.\n",
    "# It's logical to use the same 'columns_of_interest' as before for the totals.\n",
    "\n",
    "columns_of_interest = ['country', 'sold','mortgage']"
   ]
  },
  {
   "cell_type": "code",
   "execution_count": 56,
   "id": "3deae13f-8cc6-491c-b584-cb909d51a60b",
   "metadata": {
    "tags": []
   },
   "outputs": [],
   "source": [
    "totals_by_country = data[columns_of_interest].groupby(\"country\").sum()"
   ]
  },
  {
   "cell_type": "code",
   "execution_count": 58,
   "id": "405907b3-6d0d-49fc-83c0-3d8eefafa212",
   "metadata": {
    "tags": []
   },
   "outputs": [
    {
     "data": {
      "text/html": [
       "<div>\n",
       "<style scoped>\n",
       "    .dataframe tbody tr th:only-of-type {\n",
       "        vertical-align: middle;\n",
       "    }\n",
       "\n",
       "    .dataframe tbody tr th {\n",
       "        vertical-align: top;\n",
       "    }\n",
       "\n",
       "    .dataframe thead th {\n",
       "        text-align: right;\n",
       "    }\n",
       "</style>\n",
       "<table border=\"1\" class=\"dataframe\">\n",
       "  <thead>\n",
       "    <tr style=\"text-align: right;\">\n",
       "      <th></th>\n",
       "      <th>sold</th>\n",
       "      <th>mortgage</th>\n",
       "    </tr>\n",
       "    <tr>\n",
       "      <th>country</th>\n",
       "      <th></th>\n",
       "      <th></th>\n",
       "    </tr>\n",
       "  </thead>\n",
       "  <tbody>\n",
       "    <tr>\n",
       "      <th>Belgium</th>\n",
       "      <td>2</td>\n",
       "      <td>0.0</td>\n",
       "    </tr>\n",
       "    <tr>\n",
       "      <th>Canada</th>\n",
       "      <td>7</td>\n",
       "      <td>0.0</td>\n",
       "    </tr>\n",
       "    <tr>\n",
       "      <th>Denmark</th>\n",
       "      <td>1</td>\n",
       "      <td>0.0</td>\n",
       "    </tr>\n",
       "    <tr>\n",
       "      <th>Germany</th>\n",
       "      <td>1</td>\n",
       "      <td>0.0</td>\n",
       "    </tr>\n",
       "    <tr>\n",
       "      <th>Mexico</th>\n",
       "      <td>1</td>\n",
       "      <td>0.0</td>\n",
       "    </tr>\n",
       "    <tr>\n",
       "      <th>Russia</th>\n",
       "      <td>4</td>\n",
       "      <td>1.0</td>\n",
       "    </tr>\n",
       "    <tr>\n",
       "      <th>UK</th>\n",
       "      <td>2</td>\n",
       "      <td>0.0</td>\n",
       "    </tr>\n",
       "    <tr>\n",
       "      <th>USA</th>\n",
       "      <td>177</td>\n",
       "      <td>61.0</td>\n",
       "    </tr>\n",
       "  </tbody>\n",
       "</table>\n",
       "</div>"
      ],
      "text/plain": [
       "         sold  mortgage\n",
       "country                \n",
       "Belgium     2       0.0\n",
       "Canada      7       0.0\n",
       "Denmark     1       0.0\n",
       "Germany     1       0.0\n",
       "Mexico      1       0.0\n",
       "Russia      4       1.0\n",
       "UK          2       0.0\n",
       "USA       177      61.0"
      ]
     },
     "execution_count": 58,
     "metadata": {},
     "output_type": "execute_result"
    }
   ],
   "source": [
    "totals_by_country"
   ]
  },
  {
   "cell_type": "code",
   "execution_count": 60,
   "id": "a1219e90-d491-4dde-a3bf-8095391fe7fb",
   "metadata": {
    "tags": []
   },
   "outputs": [
    {
     "data": {
      "text/plain": [
       "array(['USA', 'UK', 'Belgium', 'Russia', 'Denmark', 'Germany', 'Mexico',\n",
       "       'Canada', nan], dtype=object)"
      ]
     },
     "execution_count": 60,
     "metadata": {},
     "output_type": "execute_result"
    }
   ],
   "source": [
    "# examine the unique values in the 'country' column.\n",
    "data['country'].unique()"
   ]
  },
  {
   "cell_type": "code",
   "execution_count": null,
   "id": "2e31618c-8bb6-4d78-a620-73c4f1423f12",
   "metadata": {},
   "outputs": [],
   "source": []
  },
  {
   "cell_type": "code",
   "execution_count": 62,
   "id": "8cded4de-3108-472f-94b0-483fa5aea1ef",
   "metadata": {
    "tags": []
   },
   "outputs": [],
   "source": [
    "# perform the cleanup operation on all columns at once.\n",
    "object_columns = data.select_dtypes(['object']).columns\n"
   ]
  },
  {
   "cell_type": "code",
   "execution_count": 64,
   "id": "757eb6ee-582e-4b72-bb47-f55115825db9",
   "metadata": {
    "tags": []
   },
   "outputs": [
    {
     "data": {
      "text/plain": [
       "Index(['id', 'building', 'type', 'property#', 'customerid', 'sex', 'country',\n",
       "       'state', 'purpose', 'source', 'full_name'],\n",
       "      dtype='object')"
      ]
     },
     "execution_count": 64,
     "metadata": {},
     "output_type": "execute_result"
    }
   ],
   "source": [
    "object_columns"
   ]
  },
  {
   "cell_type": "code",
   "execution_count": null,
   "id": "171a53cd-785a-4c35-9505-87c464d7b0bb",
   "metadata": {},
   "outputs": [],
   "source": []
  },
  {
   "cell_type": "code",
   "execution_count": 66,
   "id": "7150e1bb-d4e5-4055-9f88-90b3e7c4ab7a",
   "metadata": {
    "tags": []
   },
   "outputs": [],
   "source": [
    "# selecting only the data from these columns and\n",
    "# use the .apply() method to strip all white spaces from them simultaneously. \n",
    "data[object_columns] = data[object_columns].apply(lambda x: x.str.strip())"
   ]
  },
  {
   "cell_type": "code",
   "execution_count": null,
   "id": "06a4b9e2-cca1-4a59-bd49-2ac041ebaa72",
   "metadata": {},
   "outputs": [],
   "source": []
  },
  {
   "cell_type": "code",
   "execution_count": 68,
   "id": "aa508b8d-b593-4404-8743-7cc066602225",
   "metadata": {
    "tags": []
   },
   "outputs": [],
   "source": [
    "# A much cleaner data set!\n",
    "totals_by_country = data[columns_of_interest].groupby(\"country\").sum()\n"
   ]
  },
  {
   "cell_type": "code",
   "execution_count": 70,
   "id": "e8287e54-e001-4501-9597-18d368476be8",
   "metadata": {
    "tags": []
   },
   "outputs": [
    {
     "data": {
      "text/html": [
       "<div>\n",
       "<style scoped>\n",
       "    .dataframe tbody tr th:only-of-type {\n",
       "        vertical-align: middle;\n",
       "    }\n",
       "\n",
       "    .dataframe tbody tr th {\n",
       "        vertical-align: top;\n",
       "    }\n",
       "\n",
       "    .dataframe thead th {\n",
       "        text-align: right;\n",
       "    }\n",
       "</style>\n",
       "<table border=\"1\" class=\"dataframe\">\n",
       "  <thead>\n",
       "    <tr style=\"text-align: right;\">\n",
       "      <th></th>\n",
       "      <th>sold</th>\n",
       "      <th>mortgage</th>\n",
       "    </tr>\n",
       "    <tr>\n",
       "      <th>country</th>\n",
       "      <th></th>\n",
       "      <th></th>\n",
       "    </tr>\n",
       "  </thead>\n",
       "  <tbody>\n",
       "    <tr>\n",
       "      <th>Belgium</th>\n",
       "      <td>2</td>\n",
       "      <td>0.0</td>\n",
       "    </tr>\n",
       "    <tr>\n",
       "      <th>Canada</th>\n",
       "      <td>7</td>\n",
       "      <td>0.0</td>\n",
       "    </tr>\n",
       "    <tr>\n",
       "      <th>Denmark</th>\n",
       "      <td>1</td>\n",
       "      <td>0.0</td>\n",
       "    </tr>\n",
       "    <tr>\n",
       "      <th>Germany</th>\n",
       "      <td>1</td>\n",
       "      <td>0.0</td>\n",
       "    </tr>\n",
       "    <tr>\n",
       "      <th>Mexico</th>\n",
       "      <td>1</td>\n",
       "      <td>0.0</td>\n",
       "    </tr>\n",
       "    <tr>\n",
       "      <th>Russia</th>\n",
       "      <td>4</td>\n",
       "      <td>1.0</td>\n",
       "    </tr>\n",
       "    <tr>\n",
       "      <th>UK</th>\n",
       "      <td>2</td>\n",
       "      <td>0.0</td>\n",
       "    </tr>\n",
       "    <tr>\n",
       "      <th>USA</th>\n",
       "      <td>177</td>\n",
       "      <td>61.0</td>\n",
       "    </tr>\n",
       "  </tbody>\n",
       "</table>\n",
       "</div>"
      ],
      "text/plain": [
       "         sold  mortgage\n",
       "country                \n",
       "Belgium     2       0.0\n",
       "Canada      7       0.0\n",
       "Denmark     1       0.0\n",
       "Germany     1       0.0\n",
       "Mexico      1       0.0\n",
       "Russia      4       1.0\n",
       "UK          2       0.0\n",
       "USA       177      61.0"
      ]
     },
     "execution_count": 70,
     "metadata": {},
     "output_type": "execute_result"
    }
   ],
   "source": [
    "totals_by_country"
   ]
  },
  {
   "cell_type": "code",
   "execution_count": null,
   "id": "1eba59ea-1b94-42a1-9427-fea1fb4df198",
   "metadata": {},
   "outputs": [],
   "source": []
  },
  {
   "cell_type": "markdown",
   "id": "442e6775-f9cd-46b9-bce9-7ee4665131fe",
   "metadata": {},
   "source": [
    "#### Breakdown of averages by country\n",
    "\n",
    "Based on what you have seen before for the breakdowns by bulding and by state, please find the breakdown by country of the columns 'area', 'deal_satisfaction', and 'price$'"
   ]
  },
  {
   "cell_type": "code",
   "execution_count": null,
   "id": "5e24a5a0-5d72-4e8d-b505-6ba7ebccdc14",
   "metadata": {},
   "outputs": [],
   "source": []
  },
  {
   "cell_type": "code",
   "execution_count": 74,
   "id": "12095ec0-41d6-4189-b4cb-6feed1f6759c",
   "metadata": {
    "tags": []
   },
   "outputs": [],
   "source": [
    "# For the average computations \n",
    "columns_of_interest = ['country', 'area', 'deal_satisfaction','price$']\n"
   ]
  },
  {
   "cell_type": "code",
   "execution_count": 76,
   "id": "1ebe7dc2-7377-4676-bb88-1195414941a1",
   "metadata": {
    "tags": []
   },
   "outputs": [
    {
     "data": {
      "text/html": [
       "<div>\n",
       "<style scoped>\n",
       "    .dataframe tbody tr th:only-of-type {\n",
       "        vertical-align: middle;\n",
       "    }\n",
       "\n",
       "    .dataframe tbody tr th {\n",
       "        vertical-align: top;\n",
       "    }\n",
       "\n",
       "    .dataframe thead th {\n",
       "        text-align: right;\n",
       "    }\n",
       "</style>\n",
       "<table border=\"1\" class=\"dataframe\">\n",
       "  <thead>\n",
       "    <tr style=\"text-align: right;\">\n",
       "      <th></th>\n",
       "      <th>area</th>\n",
       "      <th>deal_satisfaction</th>\n",
       "      <th>price$</th>\n",
       "    </tr>\n",
       "    <tr>\n",
       "      <th>country</th>\n",
       "      <th></th>\n",
       "      <th></th>\n",
       "      <th></th>\n",
       "    </tr>\n",
       "  </thead>\n",
       "  <tbody>\n",
       "    <tr>\n",
       "      <th>Belgium</th>\n",
       "      <td>852.730000</td>\n",
       "      <td>3.000000</td>\n",
       "      <td>229075.470000</td>\n",
       "    </tr>\n",
       "    <tr>\n",
       "      <th>Canada</th>\n",
       "      <td>917.382857</td>\n",
       "      <td>5.000000</td>\n",
       "      <td>274069.384286</td>\n",
       "    </tr>\n",
       "    <tr>\n",
       "      <th>Denmark</th>\n",
       "      <td>785.480000</td>\n",
       "      <td>1.000000</td>\n",
       "      <td>257183.480000</td>\n",
       "    </tr>\n",
       "    <tr>\n",
       "      <th>Germany</th>\n",
       "      <td>743.410000</td>\n",
       "      <td>5.000000</td>\n",
       "      <td>205098.210000</td>\n",
       "    </tr>\n",
       "    <tr>\n",
       "      <th>Mexico</th>\n",
       "      <td>1283.450000</td>\n",
       "      <td>3.000000</td>\n",
       "      <td>338181.180000</td>\n",
       "    </tr>\n",
       "    <tr>\n",
       "      <th>Russia</th>\n",
       "      <td>903.757500</td>\n",
       "      <td>2.500000</td>\n",
       "      <td>278828.835000</td>\n",
       "    </tr>\n",
       "    <tr>\n",
       "      <th>UK</th>\n",
       "      <td>739.480000</td>\n",
       "      <td>4.000000</td>\n",
       "      <td>220142.680000</td>\n",
       "    </tr>\n",
       "    <tr>\n",
       "      <th>USA</th>\n",
       "      <td>900.794463</td>\n",
       "      <td>3.581921</td>\n",
       "      <td>270096.266554</td>\n",
       "    </tr>\n",
       "  </tbody>\n",
       "</table>\n",
       "</div>"
      ],
      "text/plain": [
       "                area  deal_satisfaction         price$\n",
       "country                                               \n",
       "Belgium   852.730000           3.000000  229075.470000\n",
       "Canada    917.382857           5.000000  274069.384286\n",
       "Denmark   785.480000           1.000000  257183.480000\n",
       "Germany   743.410000           5.000000  205098.210000\n",
       "Mexico   1283.450000           3.000000  338181.180000\n",
       "Russia    903.757500           2.500000  278828.835000\n",
       "UK        739.480000           4.000000  220142.680000\n",
       "USA       900.794463           3.581921  270096.266554"
      ]
     },
     "execution_count": 76,
     "metadata": {},
     "output_type": "execute_result"
    }
   ],
   "source": [
    "\n",
    "# create a new variable where we will store the data relevant to our calculations.\n",
    "averages_by_country = data[columns_of_interest].groupby(\"country\").mean()\n",
    "averages_by_country"
   ]
  },
  {
   "cell_type": "code",
   "execution_count": null,
   "id": "0c6f5d75-eaca-4037-8fa1-90748aa5222f",
   "metadata": {},
   "outputs": [],
   "source": []
  },
  {
   "cell_type": "markdown",
   "id": "d2e0fc4e-6d33-4181-9627-0e840a4fba18",
   "metadata": {},
   "source": [
    "#### Frequency distribution by State"
   ]
  },
  {
   "cell_type": "code",
   "execution_count": 79,
   "id": "8bd835b5-379f-4634-aa06-2290c672d448",
   "metadata": {
    "tags": []
   },
   "outputs": [],
   "source": [
    "columns_of_interest = ['state', 'sold','mortgage']\n"
   ]
  },
  {
   "cell_type": "code",
   "execution_count": 81,
   "id": "1e17a82f-b1f6-45ab-9152-aa9108a905a3",
   "metadata": {
    "tags": []
   },
   "outputs": [
    {
     "data": {
      "text/html": [
       "<div>\n",
       "<style scoped>\n",
       "    .dataframe tbody tr th:only-of-type {\n",
       "        vertical-align: middle;\n",
       "    }\n",
       "\n",
       "    .dataframe tbody tr th {\n",
       "        vertical-align: top;\n",
       "    }\n",
       "\n",
       "    .dataframe thead th {\n",
       "        text-align: right;\n",
       "    }\n",
       "</style>\n",
       "<table border=\"1\" class=\"dataframe\">\n",
       "  <thead>\n",
       "    <tr style=\"text-align: right;\">\n",
       "      <th></th>\n",
       "      <th>sold</th>\n",
       "      <th>mortgage</th>\n",
       "    </tr>\n",
       "    <tr>\n",
       "      <th>state</th>\n",
       "      <th></th>\n",
       "      <th></th>\n",
       "    </tr>\n",
       "  </thead>\n",
       "  <tbody>\n",
       "    <tr>\n",
       "      <th>Arizona</th>\n",
       "      <td>11</td>\n",
       "      <td>3.0</td>\n",
       "    </tr>\n",
       "    <tr>\n",
       "      <th>California</th>\n",
       "      <td>120</td>\n",
       "      <td>41.0</td>\n",
       "    </tr>\n",
       "    <tr>\n",
       "      <th>Colorado</th>\n",
       "      <td>11</td>\n",
       "      <td>5.0</td>\n",
       "    </tr>\n",
       "    <tr>\n",
       "      <th>Kansas</th>\n",
       "      <td>1</td>\n",
       "      <td>0.0</td>\n",
       "    </tr>\n",
       "    <tr>\n",
       "      <th>Nevada</th>\n",
       "      <td>17</td>\n",
       "      <td>8.0</td>\n",
       "    </tr>\n",
       "    <tr>\n",
       "      <th>Oregon</th>\n",
       "      <td>11</td>\n",
       "      <td>1.0</td>\n",
       "    </tr>\n",
       "    <tr>\n",
       "      <th>Utah</th>\n",
       "      <td>5</td>\n",
       "      <td>1.0</td>\n",
       "    </tr>\n",
       "    <tr>\n",
       "      <th>Virginia</th>\n",
       "      <td>4</td>\n",
       "      <td>2.0</td>\n",
       "    </tr>\n",
       "    <tr>\n",
       "      <th>Wyoming</th>\n",
       "      <td>1</td>\n",
       "      <td>0.0</td>\n",
       "    </tr>\n",
       "  </tbody>\n",
       "</table>\n",
       "</div>"
      ],
      "text/plain": [
       "            sold  mortgage\n",
       "state                     \n",
       "Arizona       11       3.0\n",
       "California   120      41.0\n",
       "Colorado      11       5.0\n",
       "Kansas         1       0.0\n",
       "Nevada        17       8.0\n",
       "Oregon        11       1.0\n",
       "Utah           5       1.0\n",
       "Virginia       4       2.0\n",
       "Wyoming        1       0.0"
      ]
     },
     "execution_count": 81,
     "metadata": {},
     "output_type": "execute_result"
    }
   ],
   "source": [
    "totals_by_state = data[columns_of_interest].groupby(\"state\").sum()\n",
    "totals_by_state"
   ]
  },
  {
   "cell_type": "code",
   "execution_count": null,
   "id": "3fa3a5f3-8915-4901-b6ea-e2723155d926",
   "metadata": {},
   "outputs": [],
   "source": []
  },
  {
   "cell_type": "code",
   "execution_count": 83,
   "id": "ed1f8d51-a887-412f-a33a-53c0c37bc1cf",
   "metadata": {
    "tags": []
   },
   "outputs": [
    {
     "data": {
      "text/plain": [
       "181"
      ]
     },
     "execution_count": 83,
     "metadata": {},
     "output_type": "execute_result"
    }
   ],
   "source": [
    "totals_by_state.sold.sum()"
   ]
  },
  {
   "cell_type": "code",
   "execution_count": null,
   "id": "2bdbb98b-9280-4037-8271-f182fe3f453a",
   "metadata": {},
   "outputs": [],
   "source": []
  },
  {
   "cell_type": "code",
   "execution_count": 85,
   "id": "b2a35da6-adff-4e69-8468-52892fe1ef6e",
   "metadata": {
    "tags": []
   },
   "outputs": [
    {
     "data": {
      "text/html": [
       "<div>\n",
       "<style scoped>\n",
       "    .dataframe tbody tr th:only-of-type {\n",
       "        vertical-align: middle;\n",
       "    }\n",
       "\n",
       "    .dataframe tbody tr th {\n",
       "        vertical-align: top;\n",
       "    }\n",
       "\n",
       "    .dataframe thead th {\n",
       "        text-align: right;\n",
       "    }\n",
       "</style>\n",
       "<table border=\"1\" class=\"dataframe\">\n",
       "  <thead>\n",
       "    <tr style=\"text-align: right;\">\n",
       "      <th></th>\n",
       "      <th>sold</th>\n",
       "      <th>mortgage</th>\n",
       "    </tr>\n",
       "    <tr>\n",
       "      <th>country</th>\n",
       "      <th></th>\n",
       "      <th></th>\n",
       "    </tr>\n",
       "  </thead>\n",
       "  <tbody>\n",
       "    <tr>\n",
       "      <th>Belgium</th>\n",
       "      <td>2</td>\n",
       "      <td>0.0</td>\n",
       "    </tr>\n",
       "    <tr>\n",
       "      <th>Canada</th>\n",
       "      <td>7</td>\n",
       "      <td>0.0</td>\n",
       "    </tr>\n",
       "    <tr>\n",
       "      <th>Denmark</th>\n",
       "      <td>1</td>\n",
       "      <td>0.0</td>\n",
       "    </tr>\n",
       "    <tr>\n",
       "      <th>Germany</th>\n",
       "      <td>1</td>\n",
       "      <td>0.0</td>\n",
       "    </tr>\n",
       "    <tr>\n",
       "      <th>Mexico</th>\n",
       "      <td>1</td>\n",
       "      <td>0.0</td>\n",
       "    </tr>\n",
       "    <tr>\n",
       "      <th>Russia</th>\n",
       "      <td>4</td>\n",
       "      <td>1.0</td>\n",
       "    </tr>\n",
       "    <tr>\n",
       "      <th>UK</th>\n",
       "      <td>2</td>\n",
       "      <td>0.0</td>\n",
       "    </tr>\n",
       "    <tr>\n",
       "      <th>USA</th>\n",
       "      <td>177</td>\n",
       "      <td>61.0</td>\n",
       "    </tr>\n",
       "  </tbody>\n",
       "</table>\n",
       "</div>"
      ],
      "text/plain": [
       "         sold  mortgage\n",
       "country                \n",
       "Belgium     2       0.0\n",
       "Canada      7       0.0\n",
       "Denmark     1       0.0\n",
       "Germany     1       0.0\n",
       "Mexico      1       0.0\n",
       "Russia      4       1.0\n",
       "UK          2       0.0\n",
       "USA       177      61.0"
      ]
     },
     "execution_count": 85,
     "metadata": {},
     "output_type": "execute_result"
    }
   ],
   "source": [
    "totals_by_country"
   ]
  },
  {
   "cell_type": "code",
   "execution_count": null,
   "id": "ac85865c-f9db-4fc3-97e7-30659e7abed8",
   "metadata": {},
   "outputs": [],
   "source": []
  },
  {
   "cell_type": "code",
   "execution_count": 87,
   "id": "23446f38-63e2-46e8-ba97-3ca0a1e6d699",
   "metadata": {
    "tags": []
   },
   "outputs": [],
   "source": [
    "data['state'] = np.where(data['state']=='', pd.NA, data['state'])\n",
    "data['state'] = np.where(data['country']!='USA', pd.NA, data['state'])"
   ]
  },
  {
   "cell_type": "code",
   "execution_count": null,
   "id": "ad21c481-8764-4d11-8418-7fea9c06abc2",
   "metadata": {},
   "outputs": [],
   "source": []
  },
  {
   "cell_type": "code",
   "execution_count": 89,
   "id": "79dc4d0f-94ea-471a-8bca-734cccb00ecd",
   "metadata": {
    "tags": []
   },
   "outputs": [
    {
     "data": {
      "text/html": [
       "<div>\n",
       "<style scoped>\n",
       "    .dataframe tbody tr th:only-of-type {\n",
       "        vertical-align: middle;\n",
       "    }\n",
       "\n",
       "    .dataframe tbody tr th {\n",
       "        vertical-align: top;\n",
       "    }\n",
       "\n",
       "    .dataframe thead th {\n",
       "        text-align: right;\n",
       "    }\n",
       "</style>\n",
       "<table border=\"1\" class=\"dataframe\">\n",
       "  <thead>\n",
       "    <tr style=\"text-align: right;\">\n",
       "      <th></th>\n",
       "      <th>sold</th>\n",
       "      <th>mortgage</th>\n",
       "    </tr>\n",
       "    <tr>\n",
       "      <th>state</th>\n",
       "      <th></th>\n",
       "      <th></th>\n",
       "    </tr>\n",
       "  </thead>\n",
       "  <tbody>\n",
       "    <tr>\n",
       "      <th>Arizona</th>\n",
       "      <td>9</td>\n",
       "      <td>3.0</td>\n",
       "    </tr>\n",
       "    <tr>\n",
       "      <th>California</th>\n",
       "      <td>118</td>\n",
       "      <td>41.0</td>\n",
       "    </tr>\n",
       "    <tr>\n",
       "      <th>Colorado</th>\n",
       "      <td>11</td>\n",
       "      <td>5.0</td>\n",
       "    </tr>\n",
       "    <tr>\n",
       "      <th>Kansas</th>\n",
       "      <td>1</td>\n",
       "      <td>0.0</td>\n",
       "    </tr>\n",
       "    <tr>\n",
       "      <th>Nevada</th>\n",
       "      <td>17</td>\n",
       "      <td>8.0</td>\n",
       "    </tr>\n",
       "    <tr>\n",
       "      <th>Oregon</th>\n",
       "      <td>11</td>\n",
       "      <td>1.0</td>\n",
       "    </tr>\n",
       "    <tr>\n",
       "      <th>Utah</th>\n",
       "      <td>5</td>\n",
       "      <td>1.0</td>\n",
       "    </tr>\n",
       "    <tr>\n",
       "      <th>Virginia</th>\n",
       "      <td>4</td>\n",
       "      <td>2.0</td>\n",
       "    </tr>\n",
       "    <tr>\n",
       "      <th>Wyoming</th>\n",
       "      <td>1</td>\n",
       "      <td>0.0</td>\n",
       "    </tr>\n",
       "  </tbody>\n",
       "</table>\n",
       "</div>"
      ],
      "text/plain": [
       "            sold  mortgage\n",
       "state                     \n",
       "Arizona        9       3.0\n",
       "California   118      41.0\n",
       "Colorado      11       5.0\n",
       "Kansas         1       0.0\n",
       "Nevada        17       8.0\n",
       "Oregon        11       1.0\n",
       "Utah           5       1.0\n",
       "Virginia       4       2.0\n",
       "Wyoming        1       0.0"
      ]
     },
     "execution_count": 89,
     "metadata": {},
     "output_type": "execute_result"
    }
   ],
   "source": [
    "# here's the new result\n",
    "totals_by_state = data[columns_of_interest].groupby(\"state\").sum()\n",
    "totals_by_state"
   ]
  },
  {
   "cell_type": "code",
   "execution_count": null,
   "id": "9a12a9c5-9c8e-4654-a6ac-658e40d25d0c",
   "metadata": {},
   "outputs": [],
   "source": []
  },
  {
   "cell_type": "code",
   "execution_count": 91,
   "id": "c4d218fa-5e85-454c-a35a-a4d5b44b7f76",
   "metadata": {
    "tags": []
   },
   "outputs": [
    {
     "data": {
      "text/plain": [
       "177"
      ]
     },
     "execution_count": 91,
     "metadata": {},
     "output_type": "execute_result"
    }
   ],
   "source": [
    "totals_by_state.sold.sum()"
   ]
  },
  {
   "cell_type": "code",
   "execution_count": null,
   "id": "a89dbf70-b2b7-44b8-b01d-771bc1d37ea1",
   "metadata": {},
   "outputs": [],
   "source": []
  },
  {
   "cell_type": "code",
   "execution_count": 93,
   "id": "369d4ec3-4d1e-4031-ba22-e596ec21fda5",
   "metadata": {
    "tags": []
   },
   "outputs": [],
   "source": [
    "# To focus on the relative and cumulative frequency of sales, refine the table by state.\n",
    "# start by excluding 'mortgage' from the columns of interest.\n",
    "columns_of_interest = ['state', 'sold']\n",
    "\n"
   ]
  },
  {
   "cell_type": "code",
   "execution_count": 95,
   "id": "351b9035-e9a1-4de6-ac03-0fdb0f9eaff4",
   "metadata": {
    "tags": []
   },
   "outputs": [
    {
     "data": {
      "text/html": [
       "<div>\n",
       "<style scoped>\n",
       "    .dataframe tbody tr th:only-of-type {\n",
       "        vertical-align: middle;\n",
       "    }\n",
       "\n",
       "    .dataframe tbody tr th {\n",
       "        vertical-align: top;\n",
       "    }\n",
       "\n",
       "    .dataframe thead th {\n",
       "        text-align: right;\n",
       "    }\n",
       "</style>\n",
       "<table border=\"1\" class=\"dataframe\">\n",
       "  <thead>\n",
       "    <tr style=\"text-align: right;\">\n",
       "      <th></th>\n",
       "      <th>sold</th>\n",
       "    </tr>\n",
       "    <tr>\n",
       "      <th>state</th>\n",
       "      <th></th>\n",
       "    </tr>\n",
       "  </thead>\n",
       "  <tbody>\n",
       "    <tr>\n",
       "      <th>Arizona</th>\n",
       "      <td>9</td>\n",
       "    </tr>\n",
       "    <tr>\n",
       "      <th>California</th>\n",
       "      <td>118</td>\n",
       "    </tr>\n",
       "    <tr>\n",
       "      <th>Colorado</th>\n",
       "      <td>11</td>\n",
       "    </tr>\n",
       "    <tr>\n",
       "      <th>Kansas</th>\n",
       "      <td>1</td>\n",
       "    </tr>\n",
       "    <tr>\n",
       "      <th>Nevada</th>\n",
       "      <td>17</td>\n",
       "    </tr>\n",
       "    <tr>\n",
       "      <th>Oregon</th>\n",
       "      <td>11</td>\n",
       "    </tr>\n",
       "    <tr>\n",
       "      <th>Utah</th>\n",
       "      <td>5</td>\n",
       "    </tr>\n",
       "    <tr>\n",
       "      <th>Virginia</th>\n",
       "      <td>4</td>\n",
       "    </tr>\n",
       "    <tr>\n",
       "      <th>Wyoming</th>\n",
       "      <td>1</td>\n",
       "    </tr>\n",
       "  </tbody>\n",
       "</table>\n",
       "</div>"
      ],
      "text/plain": [
       "            sold\n",
       "state           \n",
       "Arizona        9\n",
       "California   118\n",
       "Colorado      11\n",
       "Kansas         1\n",
       "Nevada        17\n",
       "Oregon        11\n",
       "Utah           5\n",
       "Virginia       4\n",
       "Wyoming        1"
      ]
     },
     "execution_count": 95,
     "metadata": {},
     "output_type": "execute_result"
    }
   ],
   "source": [
    "# store this data in a new variable called 'sold_by_state'.\n",
    "sold_by_state = data[columns_of_interest].groupby(\"state\").sum()\n",
    "sold_by_state"
   ]
  },
  {
   "cell_type": "code",
   "execution_count": null,
   "id": "bd093a0f-93f2-40b0-8125-37b4b863422e",
   "metadata": {},
   "outputs": [],
   "source": []
  },
  {
   "cell_type": "code",
   "execution_count": 97,
   "id": "0f80b868-56f6-423e-8ab3-3f84f846d231",
   "metadata": {
    "tags": []
   },
   "outputs": [
    {
     "data": {
      "text/html": [
       "<div>\n",
       "<style scoped>\n",
       "    .dataframe tbody tr th:only-of-type {\n",
       "        vertical-align: middle;\n",
       "    }\n",
       "\n",
       "    .dataframe tbody tr th {\n",
       "        vertical-align: top;\n",
       "    }\n",
       "\n",
       "    .dataframe thead th {\n",
       "        text-align: right;\n",
       "    }\n",
       "</style>\n",
       "<table border=\"1\" class=\"dataframe\">\n",
       "  <thead>\n",
       "    <tr style=\"text-align: right;\">\n",
       "      <th></th>\n",
       "      <th>sold</th>\n",
       "    </tr>\n",
       "    <tr>\n",
       "      <th>state</th>\n",
       "      <th></th>\n",
       "    </tr>\n",
       "  </thead>\n",
       "  <tbody>\n",
       "    <tr>\n",
       "      <th>California</th>\n",
       "      <td>118</td>\n",
       "    </tr>\n",
       "    <tr>\n",
       "      <th>Nevada</th>\n",
       "      <td>17</td>\n",
       "    </tr>\n",
       "    <tr>\n",
       "      <th>Colorado</th>\n",
       "      <td>11</td>\n",
       "    </tr>\n",
       "    <tr>\n",
       "      <th>Oregon</th>\n",
       "      <td>11</td>\n",
       "    </tr>\n",
       "    <tr>\n",
       "      <th>Arizona</th>\n",
       "      <td>9</td>\n",
       "    </tr>\n",
       "    <tr>\n",
       "      <th>Utah</th>\n",
       "      <td>5</td>\n",
       "    </tr>\n",
       "    <tr>\n",
       "      <th>Virginia</th>\n",
       "      <td>4</td>\n",
       "    </tr>\n",
       "    <tr>\n",
       "      <th>Kansas</th>\n",
       "      <td>1</td>\n",
       "    </tr>\n",
       "    <tr>\n",
       "      <th>Wyoming</th>\n",
       "      <td>1</td>\n",
       "    </tr>\n",
       "  </tbody>\n",
       "</table>\n",
       "</div>"
      ],
      "text/plain": [
       "            sold\n",
       "state           \n",
       "California   118\n",
       "Nevada        17\n",
       "Colorado      11\n",
       "Oregon        11\n",
       "Arizona        9\n",
       "Utah           5\n",
       "Virginia       4\n",
       "Kansas         1\n",
       "Wyoming        1"
      ]
     },
     "execution_count": 97,
     "metadata": {},
     "output_type": "execute_result"
    }
   ],
   "source": [
    "# sort the values in descending order. This will place the states with the highest sales on top.\n",
    "sold_by_state = sold_by_state.sort_values('sold', ascending=False)\n",
    "sold_by_state"
   ]
  },
  {
   "cell_type": "code",
   "execution_count": null,
   "id": "cc2af691-c7e2-4d97-9f6e-afa4dc9cf145",
   "metadata": {},
   "outputs": [],
   "source": []
  },
  {
   "cell_type": "code",
   "execution_count": 99,
   "id": "d632743c-34c8-4210-b5de-f1c0c7c363da",
   "metadata": {
    "tags": []
   },
   "outputs": [
    {
     "data": {
      "text/html": [
       "<div>\n",
       "<style scoped>\n",
       "    .dataframe tbody tr th:only-of-type {\n",
       "        vertical-align: middle;\n",
       "    }\n",
       "\n",
       "    .dataframe tbody tr th {\n",
       "        vertical-align: top;\n",
       "    }\n",
       "\n",
       "    .dataframe thead th {\n",
       "        text-align: right;\n",
       "    }\n",
       "</style>\n",
       "<table border=\"1\" class=\"dataframe\">\n",
       "  <thead>\n",
       "    <tr style=\"text-align: right;\">\n",
       "      <th></th>\n",
       "      <th>frequency</th>\n",
       "    </tr>\n",
       "    <tr>\n",
       "      <th>state</th>\n",
       "      <th></th>\n",
       "    </tr>\n",
       "  </thead>\n",
       "  <tbody>\n",
       "    <tr>\n",
       "      <th>California</th>\n",
       "      <td>118</td>\n",
       "    </tr>\n",
       "    <tr>\n",
       "      <th>Nevada</th>\n",
       "      <td>17</td>\n",
       "    </tr>\n",
       "    <tr>\n",
       "      <th>Colorado</th>\n",
       "      <td>11</td>\n",
       "    </tr>\n",
       "    <tr>\n",
       "      <th>Oregon</th>\n",
       "      <td>11</td>\n",
       "    </tr>\n",
       "    <tr>\n",
       "      <th>Arizona</th>\n",
       "      <td>9</td>\n",
       "    </tr>\n",
       "    <tr>\n",
       "      <th>Utah</th>\n",
       "      <td>5</td>\n",
       "    </tr>\n",
       "    <tr>\n",
       "      <th>Virginia</th>\n",
       "      <td>4</td>\n",
       "    </tr>\n",
       "    <tr>\n",
       "      <th>Kansas</th>\n",
       "      <td>1</td>\n",
       "    </tr>\n",
       "    <tr>\n",
       "      <th>Wyoming</th>\n",
       "      <td>1</td>\n",
       "    </tr>\n",
       "  </tbody>\n",
       "</table>\n",
       "</div>"
      ],
      "text/plain": [
       "            frequency\n",
       "state                \n",
       "California        118\n",
       "Nevada             17\n",
       "Colorado           11\n",
       "Oregon             11\n",
       "Arizona             9\n",
       "Utah                5\n",
       "Virginia            4\n",
       "Kansas              1\n",
       "Wyoming             1"
      ]
     },
     "execution_count": 99,
     "metadata": {},
     "output_type": "execute_result"
    }
   ],
   "source": [
    "# The term 'sold' may not be the best to describe frequency, so rename this column.\n",
    "sold_by_state = sold_by_state.rename(columns={'sold':'frequency'})\n",
    "sold_by_state"
   ]
  },
  {
   "cell_type": "code",
   "execution_count": null,
   "id": "5a44da16-622b-40e7-9d6d-98eb153b59fb",
   "metadata": {},
   "outputs": [],
   "source": []
  },
  {
   "cell_type": "markdown",
   "id": "77e75eb5-3d33-4e38-aa54-f0d6c818e425",
   "metadata": {},
   "source": [
    "### Relative frequency distribution by State"
   ]
  },
  {
   "cell_type": "code",
   "execution_count": 102,
   "id": "1f04f063-d1ec-4605-9d39-7d6e0a817b5f",
   "metadata": {
    "tags": []
   },
   "outputs": [
    {
     "data": {
      "text/html": [
       "<div>\n",
       "<style scoped>\n",
       "    .dataframe tbody tr th:only-of-type {\n",
       "        vertical-align: middle;\n",
       "    }\n",
       "\n",
       "    .dataframe tbody tr th {\n",
       "        vertical-align: top;\n",
       "    }\n",
       "\n",
       "    .dataframe thead th {\n",
       "        text-align: right;\n",
       "    }\n",
       "</style>\n",
       "<table border=\"1\" class=\"dataframe\">\n",
       "  <thead>\n",
       "    <tr style=\"text-align: right;\">\n",
       "      <th></th>\n",
       "      <th>frequency</th>\n",
       "      <th>relative_frequency</th>\n",
       "    </tr>\n",
       "    <tr>\n",
       "      <th>state</th>\n",
       "      <th></th>\n",
       "      <th></th>\n",
       "    </tr>\n",
       "  </thead>\n",
       "  <tbody>\n",
       "    <tr>\n",
       "      <th>California</th>\n",
       "      <td>118</td>\n",
       "      <td>0.666667</td>\n",
       "    </tr>\n",
       "    <tr>\n",
       "      <th>Nevada</th>\n",
       "      <td>17</td>\n",
       "      <td>0.096045</td>\n",
       "    </tr>\n",
       "    <tr>\n",
       "      <th>Colorado</th>\n",
       "      <td>11</td>\n",
       "      <td>0.062147</td>\n",
       "    </tr>\n",
       "    <tr>\n",
       "      <th>Oregon</th>\n",
       "      <td>11</td>\n",
       "      <td>0.062147</td>\n",
       "    </tr>\n",
       "    <tr>\n",
       "      <th>Arizona</th>\n",
       "      <td>9</td>\n",
       "      <td>0.050847</td>\n",
       "    </tr>\n",
       "    <tr>\n",
       "      <th>Utah</th>\n",
       "      <td>5</td>\n",
       "      <td>0.028249</td>\n",
       "    </tr>\n",
       "    <tr>\n",
       "      <th>Virginia</th>\n",
       "      <td>4</td>\n",
       "      <td>0.022599</td>\n",
       "    </tr>\n",
       "    <tr>\n",
       "      <th>Kansas</th>\n",
       "      <td>1</td>\n",
       "      <td>0.005650</td>\n",
       "    </tr>\n",
       "    <tr>\n",
       "      <th>Wyoming</th>\n",
       "      <td>1</td>\n",
       "      <td>0.005650</td>\n",
       "    </tr>\n",
       "  </tbody>\n",
       "</table>\n",
       "</div>"
      ],
      "text/plain": [
       "            frequency  relative_frequency\n",
       "state                                    \n",
       "California        118            0.666667\n",
       "Nevada             17            0.096045\n",
       "Colorado           11            0.062147\n",
       "Oregon             11            0.062147\n",
       "Arizona             9            0.050847\n",
       "Utah                5            0.028249\n",
       "Virginia            4            0.022599\n",
       "Kansas              1            0.005650\n",
       "Wyoming             1            0.005650"
      ]
     },
     "execution_count": 102,
     "metadata": {},
     "output_type": "execute_result"
    }
   ],
   "source": [
    "sold_by_state['relative_frequency'] = sold_by_state['frequency']/sold_by_state['frequency'].sum()\n",
    "sold_by_state"
   ]
  },
  {
   "cell_type": "code",
   "execution_count": null,
   "id": "7f56abd4-4c63-410c-8681-0a56401ca4d8",
   "metadata": {},
   "outputs": [],
   "source": []
  },
  {
   "cell_type": "code",
   "execution_count": 104,
   "id": "491646e1-dd73-4ea6-bf08-cb6e0744f2cf",
   "metadata": {
    "tags": []
   },
   "outputs": [
    {
     "data": {
      "text/html": [
       "<div>\n",
       "<style scoped>\n",
       "    .dataframe tbody tr th:only-of-type {\n",
       "        vertical-align: middle;\n",
       "    }\n",
       "\n",
       "    .dataframe tbody tr th {\n",
       "        vertical-align: top;\n",
       "    }\n",
       "\n",
       "    .dataframe thead th {\n",
       "        text-align: right;\n",
       "    }\n",
       "</style>\n",
       "<table border=\"1\" class=\"dataframe\">\n",
       "  <thead>\n",
       "    <tr style=\"text-align: right;\">\n",
       "      <th></th>\n",
       "      <th>frequency</th>\n",
       "      <th>relative_frequency</th>\n",
       "      <th>cumulative_frequency</th>\n",
       "    </tr>\n",
       "    <tr>\n",
       "      <th>state</th>\n",
       "      <th></th>\n",
       "      <th></th>\n",
       "      <th></th>\n",
       "    </tr>\n",
       "  </thead>\n",
       "  <tbody>\n",
       "    <tr>\n",
       "      <th>California</th>\n",
       "      <td>118</td>\n",
       "      <td>0.666667</td>\n",
       "      <td>0.666667</td>\n",
       "    </tr>\n",
       "    <tr>\n",
       "      <th>Nevada</th>\n",
       "      <td>17</td>\n",
       "      <td>0.096045</td>\n",
       "      <td>0.762712</td>\n",
       "    </tr>\n",
       "    <tr>\n",
       "      <th>Colorado</th>\n",
       "      <td>11</td>\n",
       "      <td>0.062147</td>\n",
       "      <td>0.824859</td>\n",
       "    </tr>\n",
       "    <tr>\n",
       "      <th>Oregon</th>\n",
       "      <td>11</td>\n",
       "      <td>0.062147</td>\n",
       "      <td>0.887006</td>\n",
       "    </tr>\n",
       "    <tr>\n",
       "      <th>Arizona</th>\n",
       "      <td>9</td>\n",
       "      <td>0.050847</td>\n",
       "      <td>0.937853</td>\n",
       "    </tr>\n",
       "    <tr>\n",
       "      <th>Utah</th>\n",
       "      <td>5</td>\n",
       "      <td>0.028249</td>\n",
       "      <td>0.966102</td>\n",
       "    </tr>\n",
       "    <tr>\n",
       "      <th>Virginia</th>\n",
       "      <td>4</td>\n",
       "      <td>0.022599</td>\n",
       "      <td>0.988701</td>\n",
       "    </tr>\n",
       "    <tr>\n",
       "      <th>Kansas</th>\n",
       "      <td>1</td>\n",
       "      <td>0.005650</td>\n",
       "      <td>0.994350</td>\n",
       "    </tr>\n",
       "    <tr>\n",
       "      <th>Wyoming</th>\n",
       "      <td>1</td>\n",
       "      <td>0.005650</td>\n",
       "      <td>1.000000</td>\n",
       "    </tr>\n",
       "  </tbody>\n",
       "</table>\n",
       "</div>"
      ],
      "text/plain": [
       "            frequency  relative_frequency  cumulative_frequency\n",
       "state                                                          \n",
       "California        118            0.666667              0.666667\n",
       "Nevada             17            0.096045              0.762712\n",
       "Colorado           11            0.062147              0.824859\n",
       "Oregon             11            0.062147              0.887006\n",
       "Arizona             9            0.050847              0.937853\n",
       "Utah                5            0.028249              0.966102\n",
       "Virginia            4            0.022599              0.988701\n",
       "Kansas              1            0.005650              0.994350\n",
       "Wyoming             1            0.005650              1.000000"
      ]
     },
     "execution_count": 104,
     "metadata": {},
     "output_type": "execute_result"
    }
   ],
   "source": [
    "# Cumulative frequency can be obtained using the 'cumsum()' function in pandas.\n",
    "# This function calculates the cumulative sum of values in a Series.\n",
    "# Applying this on our relative frequency column provides us with the cumulative frequency.\n",
    "sold_by_state['cumulative_frequency'] = sold_by_state['relative_frequency'].cumsum()\n",
    "sold_by_state"
   ]
  },
  {
   "cell_type": "code",
   "execution_count": null,
   "id": "86e1e909-924b-40cd-90ba-24ba7d67b24e",
   "metadata": {},
   "outputs": [],
   "source": []
  },
  {
   "cell_type": "code",
   "execution_count": null,
   "id": "ed65f3c9-346e-4f56-8de0-9e06e181e513",
   "metadata": {},
   "outputs": [],
   "source": []
  },
  {
   "cell_type": "code",
   "execution_count": null,
   "id": "6cca4cbc-dca5-4ac8-a2df-bcbdcfe3518f",
   "metadata": {},
   "outputs": [],
   "source": []
  }
 ],
 "metadata": {
  "kernelspec": {
   "display_name": "Python 3 (ipykernel)",
   "language": "python",
   "name": "python3"
  },
  "language_info": {
   "codemirror_mode": {
    "name": "ipython",
    "version": 3
   },
   "file_extension": ".py",
   "mimetype": "text/x-python",
   "name": "python",
   "nbconvert_exporter": "python",
   "pygments_lexer": "ipython3",
   "version": "3.11.8"
  }
 },
 "nbformat": 4,
 "nbformat_minor": 5
}
