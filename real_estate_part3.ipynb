{
 "cells": [
  {
   "cell_type": "markdown",
   "id": "6a46afb9-ccf3-47e6-908f-1662985ee705",
   "metadata": {
    "tags": []
   },
   "source": [
    "### Import the relevant Libraries"
   ]
  },
  {
   "cell_type": "code",
   "execution_count": 5,
   "id": "b4d61e35-c3ca-4d60-8f18-668e3bb76fac",
   "metadata": {
    "tags": []
   },
   "outputs": [],
   "source": [
    "import requests\n",
    "import json\n",
    "\n",
    "import pandas as pd\n",
    "import numpy as np\n",
    "\n",
    "import datetime\n",
    "\n",
    "import matplotlib.pyplot as plt\n",
    "import seaborn as sns"
   ]
  },
  {
   "cell_type": "code",
   "execution_count": 36,
   "id": "2de332ad-357d-4df5-b563-8deb3cd7be9d",
   "metadata": {
    "tags": []
   },
   "outputs": [],
   "source": [
    "import warnings\n",
    "warnings.filterwarnings('ignore')\n"
   ]
  },
  {
   "cell_type": "markdown",
   "id": "768a26f7-6088-4b84-b22f-bf305f58b91f",
   "metadata": {},
   "source": [
    "# Data Analysis"
   ]
  },
  {
   "cell_type": "code",
   "execution_count": 10,
   "id": "16c7ebb4-15d7-4705-9e34-e99b940826c9",
   "metadata": {
    "tags": []
   },
   "outputs": [],
   "source": [
    "# Read pickled file\n",
    "data = pd.read_pickle('cleaned_real_estate_data.pkl')"
   ]
  },
  {
   "cell_type": "code",
   "execution_count": null,
   "id": "0e29c1ef-8f82-44be-8d62-9a9832a9500b",
   "metadata": {},
   "outputs": [],
   "source": []
  },
  {
   "cell_type": "markdown",
   "id": "025121fb-2fad-467d-8865-2b3694ac0b7f",
   "metadata": {},
   "source": [
    "### Customers Age"
   ]
  },
  {
   "cell_type": "code",
   "execution_count": 13,
   "id": "64eb7670-bd83-4a09-80be-5e1bd794f73c",
   "metadata": {
    "tags": []
   },
   "outputs": [
    {
     "data": {
      "text/html": [
       "<div>\n",
       "<style scoped>\n",
       "    .dataframe tbody tr th:only-of-type {\n",
       "        vertical-align: middle;\n",
       "    }\n",
       "\n",
       "    .dataframe tbody tr th {\n",
       "        vertical-align: top;\n",
       "    }\n",
       "\n",
       "    .dataframe thead th {\n",
       "        text-align: right;\n",
       "    }\n",
       "</style>\n",
       "<table border=\"1\" class=\"dataframe\">\n",
       "  <thead>\n",
       "    <tr style=\"text-align: right;\">\n",
       "      <th></th>\n",
       "      <th>id</th>\n",
       "      <th>building</th>\n",
       "      <th>date_sale</th>\n",
       "      <th>type</th>\n",
       "      <th>property#</th>\n",
       "      <th>area</th>\n",
       "      <th>sold</th>\n",
       "      <th>customerid</th>\n",
       "      <th>price$</th>\n",
       "      <th>individual</th>\n",
       "      <th>birth_date</th>\n",
       "      <th>sex</th>\n",
       "      <th>country</th>\n",
       "      <th>state</th>\n",
       "      <th>purpose</th>\n",
       "      <th>deal_satisfaction</th>\n",
       "      <th>mortgage</th>\n",
       "      <th>source</th>\n",
       "      <th>full_name</th>\n",
       "    </tr>\n",
       "  </thead>\n",
       "  <tbody>\n",
       "    <tr>\n",
       "      <th>0</th>\n",
       "      <td>1030</td>\n",
       "      <td>1</td>\n",
       "      <td>2005-11-01</td>\n",
       "      <td>apartment</td>\n",
       "      <td>30</td>\n",
       "      <td>743.09</td>\n",
       "      <td>1</td>\n",
       "      <td>C0028</td>\n",
       "      <td>246172.68</td>\n",
       "      <td>1.0</td>\n",
       "      <td>1986-06-21</td>\n",
       "      <td>1</td>\n",
       "      <td>USA</td>\n",
       "      <td>California</td>\n",
       "      <td>home</td>\n",
       "      <td>5.0</td>\n",
       "      <td>0.0</td>\n",
       "      <td>website</td>\n",
       "      <td>Madalyn Mercer</td>\n",
       "    </tr>\n",
       "    <tr>\n",
       "      <th>1</th>\n",
       "      <td>1029</td>\n",
       "      <td>1</td>\n",
       "      <td>2005-10-01</td>\n",
       "      <td>apartment</td>\n",
       "      <td>29</td>\n",
       "      <td>756.21</td>\n",
       "      <td>1</td>\n",
       "      <td>C0027</td>\n",
       "      <td>246331.90</td>\n",
       "      <td>1.0</td>\n",
       "      <td>1983-02-24</td>\n",
       "      <td>1</td>\n",
       "      <td>USA</td>\n",
       "      <td>California</td>\n",
       "      <td>home</td>\n",
       "      <td>5.0</td>\n",
       "      <td>0.0</td>\n",
       "      <td>website</td>\n",
       "      <td>Lara Carrillo</td>\n",
       "    </tr>\n",
       "    <tr>\n",
       "      <th>2</th>\n",
       "      <td>2002</td>\n",
       "      <td>2</td>\n",
       "      <td>2007-07-01</td>\n",
       "      <td>apartment</td>\n",
       "      <td>2</td>\n",
       "      <td>587.28</td>\n",
       "      <td>1</td>\n",
       "      <td>C0112</td>\n",
       "      <td>209280.91</td>\n",
       "      <td>1.0</td>\n",
       "      <td>1985-12-27</td>\n",
       "      <td>0</td>\n",
       "      <td>USA</td>\n",
       "      <td>California</td>\n",
       "      <td>home</td>\n",
       "      <td>1.0</td>\n",
       "      <td>1.0</td>\n",
       "      <td>client</td>\n",
       "      <td>Donavan Flowers</td>\n",
       "    </tr>\n",
       "    <tr>\n",
       "      <th>3</th>\n",
       "      <td>2031</td>\n",
       "      <td>2</td>\n",
       "      <td>2007-12-01</td>\n",
       "      <td>apartment</td>\n",
       "      <td>31</td>\n",
       "      <td>1604.75</td>\n",
       "      <td>1</td>\n",
       "      <td>C0160</td>\n",
       "      <td>452667.01</td>\n",
       "      <td>1.0</td>\n",
       "      <td>1985-12-27</td>\n",
       "      <td>0</td>\n",
       "      <td>USA</td>\n",
       "      <td>California</td>\n",
       "      <td>investment</td>\n",
       "      <td>3.0</td>\n",
       "      <td>1.0</td>\n",
       "      <td>website</td>\n",
       "      <td>Darien Dorsey</td>\n",
       "    </tr>\n",
       "    <tr>\n",
       "      <th>4</th>\n",
       "      <td>1049</td>\n",
       "      <td>1</td>\n",
       "      <td>2004-11-01</td>\n",
       "      <td>apartment</td>\n",
       "      <td>49</td>\n",
       "      <td>1375.45</td>\n",
       "      <td>1</td>\n",
       "      <td>C0014</td>\n",
       "      <td>467083.31</td>\n",
       "      <td>1.0</td>\n",
       "      <td>1979-05-15</td>\n",
       "      <td>1</td>\n",
       "      <td>USA</td>\n",
       "      <td>California</td>\n",
       "      <td>home</td>\n",
       "      <td>4.0</td>\n",
       "      <td>0.0</td>\n",
       "      <td>agency</td>\n",
       "      <td>Alessandra Perry</td>\n",
       "    </tr>\n",
       "  </tbody>\n",
       "</table>\n",
       "</div>"
      ],
      "text/plain": [
       "     id building  date_sale       type property#     area  sold customerid  \\\n",
       "0  1030        1 2005-11-01  apartment        30   743.09     1      C0028   \n",
       "1  1029        1 2005-10-01  apartment        29   756.21     1      C0027   \n",
       "2  2002        2 2007-07-01  apartment         2   587.28     1      C0112   \n",
       "3  2031        2 2007-12-01  apartment        31  1604.75     1      C0160   \n",
       "4  1049        1 2004-11-01  apartment        49  1375.45     1      C0014   \n",
       "\n",
       "      price$  individual birth_date sex country       state     purpose  \\\n",
       "0  246172.68         1.0 1986-06-21   1     USA  California        home   \n",
       "1  246331.90         1.0 1983-02-24   1     USA  California        home   \n",
       "2  209280.91         1.0 1985-12-27   0     USA  California        home   \n",
       "3  452667.01         1.0 1985-12-27   0     USA  California  investment   \n",
       "4  467083.31         1.0 1979-05-15   1     USA  California        home   \n",
       "\n",
       "   deal_satisfaction  mortgage   source         full_name  \n",
       "0                5.0       0.0  website    Madalyn Mercer  \n",
       "1                5.0       0.0  website     Lara Carrillo  \n",
       "2                1.0       1.0   client   Donavan Flowers  \n",
       "3                3.0       1.0  website     Darien Dorsey  \n",
       "4                4.0       0.0   agency  Alessandra Perry  "
      ]
     },
     "execution_count": 13,
     "metadata": {},
     "output_type": "execute_result"
    }
   ],
   "source": [
    "data.head()"
   ]
  },
  {
   "cell_type": "code",
   "execution_count": null,
   "id": "5805cb4c-3bca-42e2-888c-fc4c3f8e11dd",
   "metadata": {},
   "outputs": [],
   "source": []
  },
  {
   "cell_type": "code",
   "execution_count": 15,
   "id": "dc1e8a7a-e18f-4028-80b6-d6836fb1a82a",
   "metadata": {
    "tags": []
   },
   "outputs": [
    {
     "data": {
      "text/plain": [
       "0     7073 days\n",
       "1     8255 days\n",
       "2     7856 days\n",
       "3     8009 days\n",
       "4     9302 days\n",
       "         ...   \n",
       "262         NaT\n",
       "263         NaT\n",
       "264         NaT\n",
       "265         NaT\n",
       "266         NaT\n",
       "Name: age_at_purchase, Length: 267, dtype: timedelta64[ns]"
      ]
     },
     "execution_count": 15,
     "metadata": {},
     "output_type": "execute_result"
    }
   ],
   "source": [
    "# calculate the age of the buyers at the time of purchase.\n",
    "# This is done by subtracting the birth date from the sale date.\n",
    "data['age_at_purchase'] = data['date_sale'] - data['birth_date']\n",
    "data['age_at_purchase']"
   ]
  },
  {
   "cell_type": "code",
   "execution_count": null,
   "id": "8409511d-6182-47a2-97df-e279b777138b",
   "metadata": {},
   "outputs": [],
   "source": []
  },
  {
   "cell_type": "code",
   "execution_count": 17,
   "id": "74a22eaf-0745-44cd-bcf2-503efd0fe08c",
   "metadata": {
    "tags": []
   },
   "outputs": [
    {
     "data": {
      "text/plain": [
       "int"
      ]
     },
     "execution_count": 17,
     "metadata": {},
     "output_type": "execute_result"
    }
   ],
   "source": [
    "#data['age_at_purchase'][0].days\n",
    "type(data['age_at_purchase'][0].days)"
   ]
  },
  {
   "cell_type": "code",
   "execution_count": null,
   "id": "36613be2-89f2-4b06-a57a-89c222194a97",
   "metadata": {},
   "outputs": [],
   "source": []
  },
  {
   "cell_type": "code",
   "execution_count": 19,
   "id": "06796feb-9f3c-4543-b085-5369027ebc51",
   "metadata": {
    "tags": []
   },
   "outputs": [
    {
     "data": {
      "text/plain": [
       "0      7073.0\n",
       "1      8255.0\n",
       "2      7856.0\n",
       "3      8009.0\n",
       "4      9302.0\n",
       "        ...  \n",
       "262       NaN\n",
       "263       NaN\n",
       "264       NaN\n",
       "265       NaN\n",
       "266       NaN\n",
       "Name: age_at_purchase, Length: 267, dtype: float64"
      ]
     },
     "execution_count": 19,
     "metadata": {},
     "output_type": "execute_result"
    }
   ],
   "source": [
    "# the 'age_at_purchase' field we've just created is of timedelta datatype.\n",
    "# A timedelta object represents a duration, the difference between two dates or times.\n",
    "# For this analysis, we need the age in integers or floats for better manipulation.\n",
    "# To convert it, use the 'days' attribute to extract the number of days, as timedelta measures duration in days.\n",
    "\n",
    "data['age_at_purchase'] = data['age_at_purchase'].apply(lambda x: x.days)\n",
    "data['age_at_purchase']"
   ]
  },
  {
   "cell_type": "code",
   "execution_count": null,
   "id": "5a41ac76-a3c7-4cd6-ac51-4657b1d6252b",
   "metadata": {},
   "outputs": [],
   "source": []
  },
  {
   "cell_type": "code",
   "execution_count": 21,
   "id": "e830a280-877b-458f-a9c0-29e690cbc158",
   "metadata": {
    "tags": []
   },
   "outputs": [
    {
     "data": {
      "text/plain": [
       "0      19.378082\n",
       "1      22.616438\n",
       "2      21.523288\n",
       "3      21.942466\n",
       "4      25.484932\n",
       "         ...    \n",
       "262          NaN\n",
       "263          NaN\n",
       "264          NaN\n",
       "265          NaN\n",
       "266          NaN\n",
       "Name: age_at_purchase, Length: 267, dtype: float64"
      ]
     },
     "execution_count": 21,
     "metadata": {},
     "output_type": "execute_result"
    }
   ],
   "source": [
    "# To obtain the age in years at the time of purchase, I divide the 'age_at_purchase' field by 365.\n",
    "# This may not be accurate due to leap years, but should be close enough for my analysis.\n",
    "data['age_at_purchase'] = data['age_at_purchase']/365\n",
    "data['age_at_purchase']"
   ]
  },
  {
   "cell_type": "code",
   "execution_count": null,
   "id": "523ab087-50d6-4a4c-90c2-1a171e48b00e",
   "metadata": {},
   "outputs": [],
   "source": []
  },
  {
   "cell_type": "code",
   "execution_count": 23,
   "id": "c1608a33-2f78-41fa-b991-f587f010c669",
   "metadata": {
    "tags": []
   },
   "outputs": [
    {
     "data": {
      "text/plain": [
       "0      19.0\n",
       "1      22.0\n",
       "2      21.0\n",
       "3      21.0\n",
       "4      25.0\n",
       "       ... \n",
       "262     NaN\n",
       "263     NaN\n",
       "264     NaN\n",
       "265     NaN\n",
       "266     NaN\n",
       "Name: age_at_purchase_rounded, Length: 267, dtype: float64"
      ]
     },
     "execution_count": 23,
     "metadata": {},
     "output_type": "execute_result"
    }
   ],
   "source": [
    "# we round down the values using np.floor() since age is typically represented in whole numbers.\n",
    "data['age_at_purchase_rounded'] = data['age_at_purchase'].apply(lambda x: np.floor(x))\n",
    "data['age_at_purchase_rounded']"
   ]
  },
  {
   "cell_type": "code",
   "execution_count": null,
   "id": "2edfaf26-e6ef-45db-ba39-21f07c719fde",
   "metadata": {},
   "outputs": [],
   "source": []
  },
  {
   "cell_type": "markdown",
   "id": "413217c1-f918-4653-b271-5af6fcb2434f",
   "metadata": {
    "tags": []
   },
   "source": [
    "#### Create Age Intervals"
   ]
  },
  {
   "cell_type": "code",
   "execution_count": 29,
   "id": "e13d038b-aa3d-4490-aa69-df11e677624c",
   "metadata": {
    "tags": []
   },
   "outputs": [
    {
     "data": {
      "text/plain": [
       "0      (19.0, 25.0]\n",
       "1      (19.0, 25.0]\n",
       "2      (19.0, 25.0]\n",
       "3      (19.0, 25.0]\n",
       "4      (25.0, 31.0]\n",
       "           ...     \n",
       "262             NaN\n",
       "263             NaN\n",
       "264             NaN\n",
       "265             NaN\n",
       "266             NaN\n",
       "Name: age_interval, Length: 267, dtype: category\n",
       "Categories (10, interval[float64, right]): [(19.0, 25.0] < (25.0, 31.0] < (31.0, 36.0] < (36.0, 42.0] ... (54.0, 59.0] < (59.0, 65.0] < (65.0, 71.0] < (71.0, 76.0]]"
      ]
     },
     "execution_count": 29,
     "metadata": {},
     "output_type": "execute_result"
    }
   ],
   "source": [
    "# I keep the original values when calculating statistics, as they are more precise.\n",
    "# To divide age into different intervals, we can use the 'cut' method from pandas.\n",
    "\n",
    "# dividing the 'age_at_purchase' into 10 bins and setting the decimal precision to 0.\n",
    "data['age_interval'] = pd.cut(data['age_at_purchase'], bins = 10, precision = 0)\n",
    "data['age_interval']"
   ]
  },
  {
   "cell_type": "code",
   "execution_count": null,
   "id": "39320f81-d067-45ee-a6ad-cb0f65ac5481",
   "metadata": {},
   "outputs": [],
   "source": []
  },
  {
   "cell_type": "markdown",
   "id": "1e2f0612-581c-4cc7-b885-95b2203a9659",
   "metadata": {},
   "source": [
    "### Breakdown by Age Interval"
   ]
  },
  {
   "cell_type": "code",
   "execution_count": 32,
   "id": "78cd9fbd-f440-4884-a182-8906acdca515",
   "metadata": {
    "tags": []
   },
   "outputs": [],
   "source": [
    "columns_of_interest = ['age_interval', 'sold']\n"
   ]
  },
  {
   "cell_type": "code",
   "execution_count": 38,
   "id": "9350eb06-5adc-4da1-92b3-e59a9d3ae5ab",
   "metadata": {
    "tags": []
   },
   "outputs": [
    {
     "data": {
      "text/html": [
       "<div>\n",
       "<style scoped>\n",
       "    .dataframe tbody tr th:only-of-type {\n",
       "        vertical-align: middle;\n",
       "    }\n",
       "\n",
       "    .dataframe tbody tr th {\n",
       "        vertical-align: top;\n",
       "    }\n",
       "\n",
       "    .dataframe thead th {\n",
       "        text-align: right;\n",
       "    }\n",
       "</style>\n",
       "<table border=\"1\" class=\"dataframe\">\n",
       "  <thead>\n",
       "    <tr style=\"text-align: right;\">\n",
       "      <th></th>\n",
       "      <th>sold</th>\n",
       "    </tr>\n",
       "    <tr>\n",
       "      <th>age_interval</th>\n",
       "      <th></th>\n",
       "    </tr>\n",
       "  </thead>\n",
       "  <tbody>\n",
       "    <tr>\n",
       "      <th>(19.0, 25.0]</th>\n",
       "      <td>4</td>\n",
       "    </tr>\n",
       "    <tr>\n",
       "      <th>(25.0, 31.0]</th>\n",
       "      <td>16</td>\n",
       "    </tr>\n",
       "    <tr>\n",
       "      <th>(31.0, 36.0]</th>\n",
       "      <td>26</td>\n",
       "    </tr>\n",
       "    <tr>\n",
       "      <th>(36.0, 42.0]</th>\n",
       "      <td>33</td>\n",
       "    </tr>\n",
       "    <tr>\n",
       "      <th>(42.0, 48.0]</th>\n",
       "      <td>22</td>\n",
       "    </tr>\n",
       "    <tr>\n",
       "      <th>(48.0, 54.0]</th>\n",
       "      <td>22</td>\n",
       "    </tr>\n",
       "    <tr>\n",
       "      <th>(54.0, 59.0]</th>\n",
       "      <td>22</td>\n",
       "    </tr>\n",
       "    <tr>\n",
       "      <th>(59.0, 65.0]</th>\n",
       "      <td>11</td>\n",
       "    </tr>\n",
       "    <tr>\n",
       "      <th>(65.0, 71.0]</th>\n",
       "      <td>16</td>\n",
       "    </tr>\n",
       "    <tr>\n",
       "      <th>(71.0, 76.0]</th>\n",
       "      <td>6</td>\n",
       "    </tr>\n",
       "  </tbody>\n",
       "</table>\n",
       "</div>"
      ],
      "text/plain": [
       "              sold\n",
       "age_interval      \n",
       "(19.0, 25.0]     4\n",
       "(25.0, 31.0]    16\n",
       "(31.0, 36.0]    26\n",
       "(36.0, 42.0]    33\n",
       "(42.0, 48.0]    22\n",
       "(48.0, 54.0]    22\n",
       "(54.0, 59.0]    22\n",
       "(59.0, 65.0]    11\n",
       "(65.0, 71.0]    16\n",
       "(71.0, 76.0]     6"
      ]
     },
     "execution_count": 38,
     "metadata": {},
     "output_type": "execute_result"
    }
   ],
   "source": [
    "sold_by_age = data[columns_of_interest].groupby(\"age_interval\").sum()\n",
    "sold_by_age"
   ]
  },
  {
   "cell_type": "code",
   "execution_count": null,
   "id": "2e001851-3b8b-4995-b6a6-1ad2c113ff35",
   "metadata": {},
   "outputs": [],
   "source": []
  },
  {
   "cell_type": "markdown",
   "id": "612f56c0-1e9c-43c6-838f-5b6f64ae69db",
   "metadata": {},
   "source": [
    "## Analysis of the Price of Properties"
   ]
  },
  {
   "cell_type": "markdown",
   "id": "1ea87bb1-618c-48c6-8cea-1306443c0657",
   "metadata": {},
   "source": [
    "### Price Interval"
   ]
  },
  {
   "cell_type": "code",
   "execution_count": 42,
   "id": "10f842e3-823f-4855-886e-a6022e5da2f5",
   "metadata": {
    "tags": []
   },
   "outputs": [
    {
     "data": {
      "text/plain": [
       "0      (243776.371, 285847.138]\n",
       "1      (243776.371, 285847.138]\n",
       "2      (201705.604, 243776.371]\n",
       "3      (412059.439, 454130.206]\n",
       "4      (454130.206, 496200.973]\n",
       "                 ...           \n",
       "262    (285847.138, 327917.905]\n",
       "263    (243776.371, 285847.138]\n",
       "264    (285847.138, 327917.905]\n",
       "265    (327917.905, 369988.672]\n",
       "266    (159634.837, 201705.604]\n",
       "Name: price_interval, Length: 267, dtype: category\n",
       "Categories (10, interval[float64, right]): [(117143.362, 159634.837] < (159634.837, 201705.604] < (201705.604, 243776.371] < (243776.371, 285847.138] ... (369988.672, 412059.439] < (412059.439, 454130.206] < (454130.206, 496200.973] < (496200.973, 538271.74]]"
      ]
     },
     "execution_count": 42,
     "metadata": {},
     "output_type": "execute_result"
    }
   ],
   "source": [
    "# To create 'price_interval', we adopt a similar process to that of 'age_interval'.\n",
    "# segment and sort the 'price$' values into 10 bins.\n",
    "data['price_interval'] = pd.cut(data['price$'], bins=10)\n",
    "data['price_interval']"
   ]
  },
  {
   "cell_type": "code",
   "execution_count": null,
   "id": "2db8f482-c0d9-4996-957d-8e35b81ba791",
   "metadata": {},
   "outputs": [],
   "source": []
  },
  {
   "cell_type": "markdown",
   "id": "f12f6adc-25b6-4ff7-8c37-204089a4d30e",
   "metadata": {},
   "source": [
    "### Total number of Properties"
   ]
  },
  {
   "cell_type": "code",
   "execution_count": 45,
   "id": "1dcc746e-0106-4ac4-a246-4f7d07da1426",
   "metadata": {
    "tags": []
   },
   "outputs": [],
   "source": [
    "# count the total number of properties for each price interval.\n",
    "columns_of_interest = ['price_interval', 'sold']\n",
    "all_properties_by_price = data[columns_of_interest].groupby(\"price_interval\").count()"
   ]
  },
  {
   "cell_type": "code",
   "execution_count": 47,
   "id": "aed0b34a-087e-4339-bdb7-262f6e452d59",
   "metadata": {
    "tags": []
   },
   "outputs": [
    {
     "data": {
      "text/html": [
       "<div>\n",
       "<style scoped>\n",
       "    .dataframe tbody tr th:only-of-type {\n",
       "        vertical-align: middle;\n",
       "    }\n",
       "\n",
       "    .dataframe tbody tr th {\n",
       "        vertical-align: top;\n",
       "    }\n",
       "\n",
       "    .dataframe thead th {\n",
       "        text-align: right;\n",
       "    }\n",
       "</style>\n",
       "<table border=\"1\" class=\"dataframe\">\n",
       "  <thead>\n",
       "    <tr style=\"text-align: right;\">\n",
       "      <th></th>\n",
       "      <th>count</th>\n",
       "    </tr>\n",
       "    <tr>\n",
       "      <th>price_interval</th>\n",
       "      <th></th>\n",
       "    </tr>\n",
       "  </thead>\n",
       "  <tbody>\n",
       "    <tr>\n",
       "      <th>(117143.362, 159634.837]</th>\n",
       "      <td>3</td>\n",
       "    </tr>\n",
       "    <tr>\n",
       "      <th>(159634.837, 201705.604]</th>\n",
       "      <td>32</td>\n",
       "    </tr>\n",
       "    <tr>\n",
       "      <th>(201705.604, 243776.371]</th>\n",
       "      <td>88</td>\n",
       "    </tr>\n",
       "    <tr>\n",
       "      <th>(243776.371, 285847.138]</th>\n",
       "      <td>47</td>\n",
       "    </tr>\n",
       "    <tr>\n",
       "      <th>(285847.138, 327917.905]</th>\n",
       "      <td>31</td>\n",
       "    </tr>\n",
       "    <tr>\n",
       "      <th>(327917.905, 369988.672]</th>\n",
       "      <td>18</td>\n",
       "    </tr>\n",
       "    <tr>\n",
       "      <th>(369988.672, 412059.439]</th>\n",
       "      <td>21</td>\n",
       "    </tr>\n",
       "    <tr>\n",
       "      <th>(412059.439, 454130.206]</th>\n",
       "      <td>7</td>\n",
       "    </tr>\n",
       "    <tr>\n",
       "      <th>(454130.206, 496200.973]</th>\n",
       "      <td>11</td>\n",
       "    </tr>\n",
       "    <tr>\n",
       "      <th>(496200.973, 538271.74]</th>\n",
       "      <td>9</td>\n",
       "    </tr>\n",
       "  </tbody>\n",
       "</table>\n",
       "</div>"
      ],
      "text/plain": [
       "                          count\n",
       "price_interval                 \n",
       "(117143.362, 159634.837]      3\n",
       "(159634.837, 201705.604]     32\n",
       "(201705.604, 243776.371]     88\n",
       "(243776.371, 285847.138]     47\n",
       "(285847.138, 327917.905]     31\n",
       "(327917.905, 369988.672]     18\n",
       "(369988.672, 412059.439]     21\n",
       "(412059.439, 454130.206]      7\n",
       "(454130.206, 496200.973]     11\n",
       "(496200.973, 538271.74]       9"
      ]
     },
     "execution_count": 47,
     "metadata": {},
     "output_type": "execute_result"
    }
   ],
   "source": [
    "# 'sold' simply represents a count, so it's idea to rename the column as 'count'.\n",
    "all_properties_by_price = all_properties_by_price.rename(columns={'sold':'count'})\n",
    "all_properties_by_price"
   ]
  },
  {
   "cell_type": "code",
   "execution_count": null,
   "id": "fbb662e7-4b0b-4a37-8e7f-04d12b71cf94",
   "metadata": {},
   "outputs": [],
   "source": []
  },
  {
   "cell_type": "markdown",
   "id": "4a586707-bed8-4cbe-8ea3-3bbd76450ddc",
   "metadata": {},
   "source": [
    "### Total Number of Sold Properties"
   ]
  },
  {
   "cell_type": "code",
   "execution_count": 50,
   "id": "8eb5080a-6409-4204-b20b-05e63273fb6c",
   "metadata": {
    "tags": []
   },
   "outputs": [],
   "source": [
    "# For the sold properties, I count the number of properties sold for each price interval.\n",
    "# use the 'sum()' function with 'groupby' as 'sold' here represents properties sold.\n",
    "columns_of_interest = ['price_interval', 'sold']\n"
   ]
  },
  {
   "cell_type": "code",
   "execution_count": 52,
   "id": "5f98cf3a-5ca8-4783-a818-73b99f491459",
   "metadata": {
    "tags": []
   },
   "outputs": [
    {
     "data": {
      "text/html": [
       "<div>\n",
       "<style scoped>\n",
       "    .dataframe tbody tr th:only-of-type {\n",
       "        vertical-align: middle;\n",
       "    }\n",
       "\n",
       "    .dataframe tbody tr th {\n",
       "        vertical-align: top;\n",
       "    }\n",
       "\n",
       "    .dataframe thead th {\n",
       "        text-align: right;\n",
       "    }\n",
       "</style>\n",
       "<table border=\"1\" class=\"dataframe\">\n",
       "  <thead>\n",
       "    <tr style=\"text-align: right;\">\n",
       "      <th></th>\n",
       "      <th>sold</th>\n",
       "    </tr>\n",
       "    <tr>\n",
       "      <th>price_interval</th>\n",
       "      <th></th>\n",
       "    </tr>\n",
       "  </thead>\n",
       "  <tbody>\n",
       "    <tr>\n",
       "      <th>(117143.362, 159634.837]</th>\n",
       "      <td>2</td>\n",
       "    </tr>\n",
       "    <tr>\n",
       "      <th>(159634.837, 201705.604]</th>\n",
       "      <td>28</td>\n",
       "    </tr>\n",
       "    <tr>\n",
       "      <th>(201705.604, 243776.371]</th>\n",
       "      <td>68</td>\n",
       "    </tr>\n",
       "    <tr>\n",
       "      <th>(243776.371, 285847.138]</th>\n",
       "      <td>34</td>\n",
       "    </tr>\n",
       "    <tr>\n",
       "      <th>(285847.138, 327917.905]</th>\n",
       "      <td>24</td>\n",
       "    </tr>\n",
       "    <tr>\n",
       "      <th>(327917.905, 369988.672]</th>\n",
       "      <td>12</td>\n",
       "    </tr>\n",
       "    <tr>\n",
       "      <th>(369988.672, 412059.439]</th>\n",
       "      <td>13</td>\n",
       "    </tr>\n",
       "    <tr>\n",
       "      <th>(412059.439, 454130.206]</th>\n",
       "      <td>4</td>\n",
       "    </tr>\n",
       "    <tr>\n",
       "      <th>(454130.206, 496200.973]</th>\n",
       "      <td>7</td>\n",
       "    </tr>\n",
       "    <tr>\n",
       "      <th>(496200.973, 538271.74]</th>\n",
       "      <td>3</td>\n",
       "    </tr>\n",
       "  </tbody>\n",
       "</table>\n",
       "</div>"
      ],
      "text/plain": [
       "                          sold\n",
       "price_interval                \n",
       "(117143.362, 159634.837]     2\n",
       "(159634.837, 201705.604]    28\n",
       "(201705.604, 243776.371]    68\n",
       "(243776.371, 285847.138]    34\n",
       "(285847.138, 327917.905]    24\n",
       "(327917.905, 369988.672]    12\n",
       "(369988.672, 412059.439]    13\n",
       "(412059.439, 454130.206]     4\n",
       "(454130.206, 496200.973]     7\n",
       "(496200.973, 538271.74]      3"
      ]
     },
     "execution_count": 52,
     "metadata": {},
     "output_type": "execute_result"
    }
   ],
   "source": [
    "sold_properties_by_price = data[columns_of_interest].groupby(\"price_interval\").sum()\n",
    "sold_properties_by_price"
   ]
  },
  {
   "cell_type": "markdown",
   "id": "da210828-2e63-4aab-aed6-5f25a0d2ae84",
   "metadata": {},
   "source": [
    "### Total number of not sold Properties"
   ]
  },
  {
   "cell_type": "code",
   "execution_count": 55,
   "id": "8b48b203-4968-4490-a6fc-9031cf717764",
   "metadata": {
    "tags": []
   },
   "outputs": [],
   "source": [
    "# To identify properties that remain unsold, I subtract the sold properties from the total count.\n",
    "# save this in a new column named 'not_sold' in the original dataframe.\n",
    "all_properties_by_price['not_sold'] = all_properties_by_price['count'] - sold_properties_by_price['sold']\n",
    "all_properties_by_price['sold'] = sold_properties_by_price['sold']\n"
   ]
  },
  {
   "cell_type": "code",
   "execution_count": 57,
   "id": "02c50f5c-7c3e-4bec-9eac-262ffd9a2dc8",
   "metadata": {
    "tags": []
   },
   "outputs": [
    {
     "data": {
      "text/html": [
       "<div>\n",
       "<style scoped>\n",
       "    .dataframe tbody tr th:only-of-type {\n",
       "        vertical-align: middle;\n",
       "    }\n",
       "\n",
       "    .dataframe tbody tr th {\n",
       "        vertical-align: top;\n",
       "    }\n",
       "\n",
       "    .dataframe thead th {\n",
       "        text-align: right;\n",
       "    }\n",
       "</style>\n",
       "<table border=\"1\" class=\"dataframe\">\n",
       "  <thead>\n",
       "    <tr style=\"text-align: right;\">\n",
       "      <th></th>\n",
       "      <th>count</th>\n",
       "      <th>not_sold</th>\n",
       "      <th>sold</th>\n",
       "    </tr>\n",
       "    <tr>\n",
       "      <th>price_interval</th>\n",
       "      <th></th>\n",
       "      <th></th>\n",
       "      <th></th>\n",
       "    </tr>\n",
       "  </thead>\n",
       "  <tbody>\n",
       "    <tr>\n",
       "      <th>(117143.362, 159634.837]</th>\n",
       "      <td>3</td>\n",
       "      <td>1</td>\n",
       "      <td>2</td>\n",
       "    </tr>\n",
       "    <tr>\n",
       "      <th>(159634.837, 201705.604]</th>\n",
       "      <td>32</td>\n",
       "      <td>4</td>\n",
       "      <td>28</td>\n",
       "    </tr>\n",
       "    <tr>\n",
       "      <th>(201705.604, 243776.371]</th>\n",
       "      <td>88</td>\n",
       "      <td>20</td>\n",
       "      <td>68</td>\n",
       "    </tr>\n",
       "    <tr>\n",
       "      <th>(243776.371, 285847.138]</th>\n",
       "      <td>47</td>\n",
       "      <td>13</td>\n",
       "      <td>34</td>\n",
       "    </tr>\n",
       "    <tr>\n",
       "      <th>(285847.138, 327917.905]</th>\n",
       "      <td>31</td>\n",
       "      <td>7</td>\n",
       "      <td>24</td>\n",
       "    </tr>\n",
       "    <tr>\n",
       "      <th>(327917.905, 369988.672]</th>\n",
       "      <td>18</td>\n",
       "      <td>6</td>\n",
       "      <td>12</td>\n",
       "    </tr>\n",
       "    <tr>\n",
       "      <th>(369988.672, 412059.439]</th>\n",
       "      <td>21</td>\n",
       "      <td>8</td>\n",
       "      <td>13</td>\n",
       "    </tr>\n",
       "    <tr>\n",
       "      <th>(412059.439, 454130.206]</th>\n",
       "      <td>7</td>\n",
       "      <td>3</td>\n",
       "      <td>4</td>\n",
       "    </tr>\n",
       "    <tr>\n",
       "      <th>(454130.206, 496200.973]</th>\n",
       "      <td>11</td>\n",
       "      <td>4</td>\n",
       "      <td>7</td>\n",
       "    </tr>\n",
       "    <tr>\n",
       "      <th>(496200.973, 538271.74]</th>\n",
       "      <td>9</td>\n",
       "      <td>6</td>\n",
       "      <td>3</td>\n",
       "    </tr>\n",
       "  </tbody>\n",
       "</table>\n",
       "</div>"
      ],
      "text/plain": [
       "                          count  not_sold  sold\n",
       "price_interval                                 \n",
       "(117143.362, 159634.837]      3         1     2\n",
       "(159634.837, 201705.604]     32         4    28\n",
       "(201705.604, 243776.371]     88        20    68\n",
       "(243776.371, 285847.138]     47        13    34\n",
       "(285847.138, 327917.905]     31         7    24\n",
       "(327917.905, 369988.672]     18         6    12\n",
       "(369988.672, 412059.439]     21         8    13\n",
       "(412059.439, 454130.206]      7         3     4\n",
       "(454130.206, 496200.973]     11         4     7\n",
       "(496200.973, 538271.74]       9         6     3"
      ]
     },
     "execution_count": 57,
     "metadata": {},
     "output_type": "execute_result"
    }
   ],
   "source": [
    "all_properties_by_price"
   ]
  },
  {
   "cell_type": "code",
   "execution_count": null,
   "id": "84f19854-8fa6-4d17-93d7-c2cf09a78f51",
   "metadata": {},
   "outputs": [],
   "source": []
  },
  {
   "cell_type": "markdown",
   "id": "7b2cc9ef-fa11-43d0-9115-705c2ea8833f",
   "metadata": {},
   "source": [
    "## Relationship between Age and Price"
   ]
  },
  {
   "cell_type": "code",
   "execution_count": 60,
   "id": "f7b27035-69bb-40e8-90e5-2beab9c27e72",
   "metadata": {
    "tags": []
   },
   "outputs": [
    {
     "data": {
      "text/html": [
       "<div>\n",
       "<style scoped>\n",
       "    .dataframe tbody tr th:only-of-type {\n",
       "        vertical-align: middle;\n",
       "    }\n",
       "\n",
       "    .dataframe tbody tr th {\n",
       "        vertical-align: top;\n",
       "    }\n",
       "\n",
       "    .dataframe thead th {\n",
       "        text-align: right;\n",
       "    }\n",
       "</style>\n",
       "<table border=\"1\" class=\"dataframe\">\n",
       "  <thead>\n",
       "    <tr style=\"text-align: right;\">\n",
       "      <th></th>\n",
       "      <th>id</th>\n",
       "      <th>building</th>\n",
       "      <th>date_sale</th>\n",
       "      <th>type</th>\n",
       "      <th>property#</th>\n",
       "      <th>area</th>\n",
       "      <th>sold</th>\n",
       "      <th>customerid</th>\n",
       "      <th>price$</th>\n",
       "      <th>individual</th>\n",
       "      <th>...</th>\n",
       "      <th>state</th>\n",
       "      <th>purpose</th>\n",
       "      <th>deal_satisfaction</th>\n",
       "      <th>mortgage</th>\n",
       "      <th>source</th>\n",
       "      <th>full_name</th>\n",
       "      <th>age_at_purchase</th>\n",
       "      <th>age_at_purchase_rounded</th>\n",
       "      <th>age_interval</th>\n",
       "      <th>price_interval</th>\n",
       "    </tr>\n",
       "  </thead>\n",
       "  <tbody>\n",
       "    <tr>\n",
       "      <th>0</th>\n",
       "      <td>1030</td>\n",
       "      <td>1</td>\n",
       "      <td>2005-11-01</td>\n",
       "      <td>apartment</td>\n",
       "      <td>30</td>\n",
       "      <td>743.09</td>\n",
       "      <td>1</td>\n",
       "      <td>C0028</td>\n",
       "      <td>246172.68</td>\n",
       "      <td>1.0</td>\n",
       "      <td>...</td>\n",
       "      <td>California</td>\n",
       "      <td>home</td>\n",
       "      <td>5.0</td>\n",
       "      <td>0.0</td>\n",
       "      <td>website</td>\n",
       "      <td>Madalyn Mercer</td>\n",
       "      <td>19.378082</td>\n",
       "      <td>19.0</td>\n",
       "      <td>(19.0, 25.0]</td>\n",
       "      <td>(243776.371, 285847.138]</td>\n",
       "    </tr>\n",
       "    <tr>\n",
       "      <th>1</th>\n",
       "      <td>1029</td>\n",
       "      <td>1</td>\n",
       "      <td>2005-10-01</td>\n",
       "      <td>apartment</td>\n",
       "      <td>29</td>\n",
       "      <td>756.21</td>\n",
       "      <td>1</td>\n",
       "      <td>C0027</td>\n",
       "      <td>246331.90</td>\n",
       "      <td>1.0</td>\n",
       "      <td>...</td>\n",
       "      <td>California</td>\n",
       "      <td>home</td>\n",
       "      <td>5.0</td>\n",
       "      <td>0.0</td>\n",
       "      <td>website</td>\n",
       "      <td>Lara Carrillo</td>\n",
       "      <td>22.616438</td>\n",
       "      <td>22.0</td>\n",
       "      <td>(19.0, 25.0]</td>\n",
       "      <td>(243776.371, 285847.138]</td>\n",
       "    </tr>\n",
       "    <tr>\n",
       "      <th>2</th>\n",
       "      <td>2002</td>\n",
       "      <td>2</td>\n",
       "      <td>2007-07-01</td>\n",
       "      <td>apartment</td>\n",
       "      <td>2</td>\n",
       "      <td>587.28</td>\n",
       "      <td>1</td>\n",
       "      <td>C0112</td>\n",
       "      <td>209280.91</td>\n",
       "      <td>1.0</td>\n",
       "      <td>...</td>\n",
       "      <td>California</td>\n",
       "      <td>home</td>\n",
       "      <td>1.0</td>\n",
       "      <td>1.0</td>\n",
       "      <td>client</td>\n",
       "      <td>Donavan Flowers</td>\n",
       "      <td>21.523288</td>\n",
       "      <td>21.0</td>\n",
       "      <td>(19.0, 25.0]</td>\n",
       "      <td>(201705.604, 243776.371]</td>\n",
       "    </tr>\n",
       "    <tr>\n",
       "      <th>3</th>\n",
       "      <td>2031</td>\n",
       "      <td>2</td>\n",
       "      <td>2007-12-01</td>\n",
       "      <td>apartment</td>\n",
       "      <td>31</td>\n",
       "      <td>1604.75</td>\n",
       "      <td>1</td>\n",
       "      <td>C0160</td>\n",
       "      <td>452667.01</td>\n",
       "      <td>1.0</td>\n",
       "      <td>...</td>\n",
       "      <td>California</td>\n",
       "      <td>investment</td>\n",
       "      <td>3.0</td>\n",
       "      <td>1.0</td>\n",
       "      <td>website</td>\n",
       "      <td>Darien Dorsey</td>\n",
       "      <td>21.942466</td>\n",
       "      <td>21.0</td>\n",
       "      <td>(19.0, 25.0]</td>\n",
       "      <td>(412059.439, 454130.206]</td>\n",
       "    </tr>\n",
       "    <tr>\n",
       "      <th>4</th>\n",
       "      <td>1049</td>\n",
       "      <td>1</td>\n",
       "      <td>2004-11-01</td>\n",
       "      <td>apartment</td>\n",
       "      <td>49</td>\n",
       "      <td>1375.45</td>\n",
       "      <td>1</td>\n",
       "      <td>C0014</td>\n",
       "      <td>467083.31</td>\n",
       "      <td>1.0</td>\n",
       "      <td>...</td>\n",
       "      <td>California</td>\n",
       "      <td>home</td>\n",
       "      <td>4.0</td>\n",
       "      <td>0.0</td>\n",
       "      <td>agency</td>\n",
       "      <td>Alessandra Perry</td>\n",
       "      <td>25.484932</td>\n",
       "      <td>25.0</td>\n",
       "      <td>(25.0, 31.0]</td>\n",
       "      <td>(454130.206, 496200.973]</td>\n",
       "    </tr>\n",
       "    <tr>\n",
       "      <th>...</th>\n",
       "      <td>...</td>\n",
       "      <td>...</td>\n",
       "      <td>...</td>\n",
       "      <td>...</td>\n",
       "      <td>...</td>\n",
       "      <td>...</td>\n",
       "      <td>...</td>\n",
       "      <td>...</td>\n",
       "      <td>...</td>\n",
       "      <td>...</td>\n",
       "      <td>...</td>\n",
       "      <td>...</td>\n",
       "      <td>...</td>\n",
       "      <td>...</td>\n",
       "      <td>...</td>\n",
       "      <td>...</td>\n",
       "      <td>...</td>\n",
       "      <td>...</td>\n",
       "      <td>...</td>\n",
       "      <td>...</td>\n",
       "      <td>...</td>\n",
       "    </tr>\n",
       "    <tr>\n",
       "      <th>262</th>\n",
       "      <td>5044</td>\n",
       "      <td>5</td>\n",
       "      <td>NaT</td>\n",
       "      <td>apartment</td>\n",
       "      <td>44</td>\n",
       "      <td>1238.58</td>\n",
       "      <td>0</td>\n",
       "      <td>NaN</td>\n",
       "      <td>322610.74</td>\n",
       "      <td>NaN</td>\n",
       "      <td>...</td>\n",
       "      <td>NaN</td>\n",
       "      <td>NaN</td>\n",
       "      <td>NaN</td>\n",
       "      <td>NaN</td>\n",
       "      <td>NaN</td>\n",
       "      <td>NaN</td>\n",
       "      <td>NaN</td>\n",
       "      <td>NaN</td>\n",
       "      <td>NaN</td>\n",
       "      <td>(285847.138, 327917.905]</td>\n",
       "    </tr>\n",
       "    <tr>\n",
       "      <th>263</th>\n",
       "      <td>5047</td>\n",
       "      <td>5</td>\n",
       "      <td>NaT</td>\n",
       "      <td>apartment</td>\n",
       "      <td>47</td>\n",
       "      <td>794.52</td>\n",
       "      <td>0</td>\n",
       "      <td>NaN</td>\n",
       "      <td>279191.26</td>\n",
       "      <td>NaN</td>\n",
       "      <td>...</td>\n",
       "      <td>NaN</td>\n",
       "      <td>NaN</td>\n",
       "      <td>NaN</td>\n",
       "      <td>NaN</td>\n",
       "      <td>NaN</td>\n",
       "      <td>NaN</td>\n",
       "      <td>NaN</td>\n",
       "      <td>NaN</td>\n",
       "      <td>NaN</td>\n",
       "      <td>(243776.371, 285847.138]</td>\n",
       "    </tr>\n",
       "    <tr>\n",
       "      <th>264</th>\n",
       "      <td>5048</td>\n",
       "      <td>5</td>\n",
       "      <td>NaT</td>\n",
       "      <td>apartment</td>\n",
       "      <td>48</td>\n",
       "      <td>1013.27</td>\n",
       "      <td>0</td>\n",
       "      <td>NaN</td>\n",
       "      <td>287996.53</td>\n",
       "      <td>NaN</td>\n",
       "      <td>...</td>\n",
       "      <td>NaN</td>\n",
       "      <td>NaN</td>\n",
       "      <td>NaN</td>\n",
       "      <td>NaN</td>\n",
       "      <td>NaN</td>\n",
       "      <td>NaN</td>\n",
       "      <td>NaN</td>\n",
       "      <td>NaN</td>\n",
       "      <td>NaN</td>\n",
       "      <td>(285847.138, 327917.905]</td>\n",
       "    </tr>\n",
       "    <tr>\n",
       "      <th>265</th>\n",
       "      <td>5050</td>\n",
       "      <td>5</td>\n",
       "      <td>NaT</td>\n",
       "      <td>apartment</td>\n",
       "      <td>50</td>\n",
       "      <td>1074.71</td>\n",
       "      <td>0</td>\n",
       "      <td>NaN</td>\n",
       "      <td>365868.78</td>\n",
       "      <td>NaN</td>\n",
       "      <td>...</td>\n",
       "      <td>NaN</td>\n",
       "      <td>NaN</td>\n",
       "      <td>NaN</td>\n",
       "      <td>NaN</td>\n",
       "      <td>NaN</td>\n",
       "      <td>NaN</td>\n",
       "      <td>NaN</td>\n",
       "      <td>NaN</td>\n",
       "      <td>NaN</td>\n",
       "      <td>(327917.905, 369988.672]</td>\n",
       "    </tr>\n",
       "    <tr>\n",
       "      <th>266</th>\n",
       "      <td>5051</td>\n",
       "      <td>5</td>\n",
       "      <td>NaT</td>\n",
       "      <td>apartment</td>\n",
       "      <td>51</td>\n",
       "      <td>789.25</td>\n",
       "      <td>0</td>\n",
       "      <td>NaN</td>\n",
       "      <td>199216.40</td>\n",
       "      <td>NaN</td>\n",
       "      <td>...</td>\n",
       "      <td>NaN</td>\n",
       "      <td>NaN</td>\n",
       "      <td>NaN</td>\n",
       "      <td>NaN</td>\n",
       "      <td>NaN</td>\n",
       "      <td>NaN</td>\n",
       "      <td>NaN</td>\n",
       "      <td>NaN</td>\n",
       "      <td>NaN</td>\n",
       "      <td>(159634.837, 201705.604]</td>\n",
       "    </tr>\n",
       "  </tbody>\n",
       "</table>\n",
       "<p>267 rows × 23 columns</p>\n",
       "</div>"
      ],
      "text/plain": [
       "       id building  date_sale       type property#     area  sold customerid  \\\n",
       "0    1030        1 2005-11-01  apartment        30   743.09     1      C0028   \n",
       "1    1029        1 2005-10-01  apartment        29   756.21     1      C0027   \n",
       "2    2002        2 2007-07-01  apartment         2   587.28     1      C0112   \n",
       "3    2031        2 2007-12-01  apartment        31  1604.75     1      C0160   \n",
       "4    1049        1 2004-11-01  apartment        49  1375.45     1      C0014   \n",
       "..    ...      ...        ...        ...       ...      ...   ...        ...   \n",
       "262  5044        5        NaT  apartment        44  1238.58     0        NaN   \n",
       "263  5047        5        NaT  apartment        47   794.52     0        NaN   \n",
       "264  5048        5        NaT  apartment        48  1013.27     0        NaN   \n",
       "265  5050        5        NaT  apartment        50  1074.71     0        NaN   \n",
       "266  5051        5        NaT  apartment        51   789.25     0        NaN   \n",
       "\n",
       "        price$  individual  ...       state     purpose deal_satisfaction  \\\n",
       "0    246172.68         1.0  ...  California        home               5.0   \n",
       "1    246331.90         1.0  ...  California        home               5.0   \n",
       "2    209280.91         1.0  ...  California        home               1.0   \n",
       "3    452667.01         1.0  ...  California  investment               3.0   \n",
       "4    467083.31         1.0  ...  California        home               4.0   \n",
       "..         ...         ...  ...         ...         ...               ...   \n",
       "262  322610.74         NaN  ...         NaN         NaN               NaN   \n",
       "263  279191.26         NaN  ...         NaN         NaN               NaN   \n",
       "264  287996.53         NaN  ...         NaN         NaN               NaN   \n",
       "265  365868.78         NaN  ...         NaN         NaN               NaN   \n",
       "266  199216.40         NaN  ...         NaN         NaN               NaN   \n",
       "\n",
       "    mortgage   source         full_name  age_at_purchase  \\\n",
       "0        0.0  website    Madalyn Mercer        19.378082   \n",
       "1        0.0  website     Lara Carrillo        22.616438   \n",
       "2        1.0   client   Donavan Flowers        21.523288   \n",
       "3        1.0  website     Darien Dorsey        21.942466   \n",
       "4        0.0   agency  Alessandra Perry        25.484932   \n",
       "..       ...      ...               ...              ...   \n",
       "262      NaN      NaN               NaN              NaN   \n",
       "263      NaN      NaN               NaN              NaN   \n",
       "264      NaN      NaN               NaN              NaN   \n",
       "265      NaN      NaN               NaN              NaN   \n",
       "266      NaN      NaN               NaN              NaN   \n",
       "\n",
       "    age_at_purchase_rounded  age_interval            price_interval  \n",
       "0                      19.0  (19.0, 25.0]  (243776.371, 285847.138]  \n",
       "1                      22.0  (19.0, 25.0]  (243776.371, 285847.138]  \n",
       "2                      21.0  (19.0, 25.0]  (201705.604, 243776.371]  \n",
       "3                      21.0  (19.0, 25.0]  (412059.439, 454130.206]  \n",
       "4                      25.0  (25.0, 31.0]  (454130.206, 496200.973]  \n",
       "..                      ...           ...                       ...  \n",
       "262                     NaN           NaN  (285847.138, 327917.905]  \n",
       "263                     NaN           NaN  (243776.371, 285847.138]  \n",
       "264                     NaN           NaN  (285847.138, 327917.905]  \n",
       "265                     NaN           NaN  (327917.905, 369988.672]  \n",
       "266                     NaN           NaN  (159634.837, 201705.604]  \n",
       "\n",
       "[267 rows x 23 columns]"
      ]
     },
     "execution_count": 60,
     "metadata": {},
     "output_type": "execute_result"
    }
   ],
   "source": [
    "data"
   ]
  },
  {
   "cell_type": "code",
   "execution_count": null,
   "id": "a1bea478-63c5-4406-b640-149352f95491",
   "metadata": {},
   "outputs": [],
   "source": []
  },
  {
   "cell_type": "markdown",
   "id": "f67af737-166c-4e3c-9cd0-2a626f1d09ef",
   "metadata": {},
   "source": [
    "### Filter out only the Sold Apartments "
   ]
  },
  {
   "cell_type": "code",
   "execution_count": 63,
   "id": "cda840dd-5b3c-4a43-a577-ea9d6021acb0",
   "metadata": {
    "tags": []
   },
   "outputs": [],
   "source": [
    "# Next I filter out the properties that have been sold.\n",
    "# This will be done in a new variable by filtering the 'sold' column for the value of 1.\n",
    "data_sold = data[data['sold']==1]"
   ]
  },
  {
   "cell_type": "code",
   "execution_count": null,
   "id": "7fa6019f-84b7-4e0c-86a8-036c386d1b2f",
   "metadata": {},
   "outputs": [],
   "source": []
  },
  {
   "cell_type": "code",
   "execution_count": 65,
   "id": "c385272e-eee6-49cc-969e-a9a7d10de237",
   "metadata": {
    "tags": []
   },
   "outputs": [],
   "source": [
    "# Also exclude any company data, focusing only on individual sales.\n",
    "data_sold = data_sold[data_sold['individual']==1]"
   ]
  },
  {
   "cell_type": "code",
   "execution_count": null,
   "id": "6c86725e-dfd9-47d1-a3d7-03cbcfb2a381",
   "metadata": {},
   "outputs": [],
   "source": []
  },
  {
   "cell_type": "code",
   "execution_count": 67,
   "id": "c7d9a800-b4a4-4e61-b35a-5c0debdd1abe",
   "metadata": {
    "tags": []
   },
   "outputs": [
    {
     "data": {
      "text/html": [
       "<div>\n",
       "<style scoped>\n",
       "    .dataframe tbody tr th:only-of-type {\n",
       "        vertical-align: middle;\n",
       "    }\n",
       "\n",
       "    .dataframe tbody tr th {\n",
       "        vertical-align: top;\n",
       "    }\n",
       "\n",
       "    .dataframe thead th {\n",
       "        text-align: right;\n",
       "    }\n",
       "</style>\n",
       "<table border=\"1\" class=\"dataframe\">\n",
       "  <thead>\n",
       "    <tr style=\"text-align: right;\">\n",
       "      <th></th>\n",
       "      <th>age_at_purchase</th>\n",
       "      <th>price$</th>\n",
       "    </tr>\n",
       "  </thead>\n",
       "  <tbody>\n",
       "    <tr>\n",
       "      <th>0</th>\n",
       "      <td>19.378082</td>\n",
       "      <td>246172.68</td>\n",
       "    </tr>\n",
       "    <tr>\n",
       "      <th>1</th>\n",
       "      <td>22.616438</td>\n",
       "      <td>246331.90</td>\n",
       "    </tr>\n",
       "    <tr>\n",
       "      <th>2</th>\n",
       "      <td>21.523288</td>\n",
       "      <td>209280.91</td>\n",
       "    </tr>\n",
       "    <tr>\n",
       "      <th>3</th>\n",
       "      <td>21.942466</td>\n",
       "      <td>452667.01</td>\n",
       "    </tr>\n",
       "    <tr>\n",
       "      <th>4</th>\n",
       "      <td>25.484932</td>\n",
       "      <td>467083.31</td>\n",
       "    </tr>\n",
       "    <tr>\n",
       "      <th>...</th>\n",
       "      <td>...</td>\n",
       "      <td>...</td>\n",
       "    </tr>\n",
       "    <tr>\n",
       "      <th>173</th>\n",
       "      <td>70.846575</td>\n",
       "      <td>204292.49</td>\n",
       "    </tr>\n",
       "    <tr>\n",
       "      <th>174</th>\n",
       "      <td>72.849315</td>\n",
       "      <td>261579.89</td>\n",
       "    </tr>\n",
       "    <tr>\n",
       "      <th>175</th>\n",
       "      <td>73.038356</td>\n",
       "      <td>222867.42</td>\n",
       "    </tr>\n",
       "    <tr>\n",
       "      <th>176</th>\n",
       "      <td>72.778082</td>\n",
       "      <td>291494.36</td>\n",
       "    </tr>\n",
       "    <tr>\n",
       "      <th>177</th>\n",
       "      <td>76.347945</td>\n",
       "      <td>296483.14</td>\n",
       "    </tr>\n",
       "  </tbody>\n",
       "</table>\n",
       "<p>178 rows × 2 columns</p>\n",
       "</div>"
      ],
      "text/plain": [
       "     age_at_purchase     price$\n",
       "0          19.378082  246172.68\n",
       "1          22.616438  246331.90\n",
       "2          21.523288  209280.91\n",
       "3          21.942466  452667.01\n",
       "4          25.484932  467083.31\n",
       "..               ...        ...\n",
       "173        70.846575  204292.49\n",
       "174        72.849315  261579.89\n",
       "175        73.038356  222867.42\n",
       "176        72.778082  291494.36\n",
       "177        76.347945  296483.14\n",
       "\n",
       "[178 rows x 2 columns]"
      ]
     },
     "execution_count": 67,
     "metadata": {},
     "output_type": "execute_result"
    }
   ],
   "source": [
    "# Narrow down to the 'age_at_purchase' and 'price$' columns.\n",
    "data_sold[['age_at_purchase','price$']]"
   ]
  },
  {
   "cell_type": "code",
   "execution_count": null,
   "id": "502a83fb-6038-4823-b14b-08d0af9bdb0d",
   "metadata": {},
   "outputs": [],
   "source": []
  },
  {
   "cell_type": "markdown",
   "id": "e30905ca-18ed-45b8-9c8d-622948949a70",
   "metadata": {},
   "source": [
    "### Covariance of Age and Price"
   ]
  },
  {
   "cell_type": "code",
   "execution_count": 70,
   "id": "12c126c5-812a-42ae-b0f5-b8d020db1d29",
   "metadata": {
    "tags": []
   },
   "outputs": [
    {
     "data": {
      "text/plain": [
       "array([[ 1.68344293e+02, -1.77726142e+05],\n",
       "       [-1.77726142e+05,  6.16619957e+09]])"
      ]
     },
     "execution_count": 70,
     "metadata": {},
     "output_type": "execute_result"
    }
   ],
   "source": [
    "# calculate the covariance of 'age_at_purchase' and 'price$'.\n",
    "# not really needed for my insights\n",
    "np.cov(data_sold['age_at_purchase'], data_sold['price$'])"
   ]
  },
  {
   "cell_type": "code",
   "execution_count": null,
   "id": "1607cdd4-fc84-4325-a526-fa99f54d338f",
   "metadata": {},
   "outputs": [],
   "source": []
  },
  {
   "cell_type": "markdown",
   "id": "6426a28a-36b8-4c5d-aa2f-730d323cbde0",
   "metadata": {},
   "source": [
    "### Correlation of Age and Price"
   ]
  },
  {
   "cell_type": "code",
   "execution_count": 73,
   "id": "29781dc6-05f4-4786-bef3-297db52acdf0",
   "metadata": {
    "tags": []
   },
   "outputs": [
    {
     "data": {
      "text/plain": [
       "array([[ 1.        , -0.17443889],\n",
       "       [-0.17443889,  1.        ]])"
      ]
     },
     "execution_count": 73,
     "metadata": {},
     "output_type": "execute_result"
    }
   ],
   "source": [
    "# correlation is ideal, which can be calculated as follows.\n",
    "np.corrcoef(data_sold['age_at_purchase'], data_sold['price$'])"
   ]
  },
  {
   "cell_type": "code",
   "execution_count": null,
   "id": "f49b0856-d435-4183-9c80-0d41389dceb8",
   "metadata": {},
   "outputs": [],
   "source": []
  },
  {
   "cell_type": "code",
   "execution_count": 75,
   "id": "e2efb48b-8ea8-4710-963a-19892a38866f",
   "metadata": {
    "tags": []
   },
   "outputs": [
    {
     "data": {
      "text/plain": [
       "array([[ 1.        , -0.18945818],\n",
       "       [-0.18945818,  1.        ]])"
      ]
     },
     "execution_count": 75,
     "metadata": {},
     "output_type": "execute_result"
    }
   ],
   "source": [
    "# drop any rows with missing values and store this in a new variable 'data_sold_no_na'.\n",
    "data_sold_no_na = data_sold.dropna()\n",
    "np.corrcoef(data_sold_no_na['age_at_purchase'], data_sold_no_na['price$'])#, ddof=1)"
   ]
  },
  {
   "cell_type": "code",
   "execution_count": null,
   "id": "7c5a9ae2-20c5-449c-a3d6-895e50247f94",
   "metadata": {},
   "outputs": [],
   "source": []
  },
  {
   "cell_type": "code",
   "execution_count": 77,
   "id": "1aec0365-b40f-4abd-a964-7b74bc9f3234",
   "metadata": {
    "tags": []
   },
   "outputs": [
    {
     "data": {
      "text/html": [
       "<div>\n",
       "<style scoped>\n",
       "    .dataframe tbody tr th:only-of-type {\n",
       "        vertical-align: middle;\n",
       "    }\n",
       "\n",
       "    .dataframe tbody tr th {\n",
       "        vertical-align: top;\n",
       "    }\n",
       "\n",
       "    .dataframe thead th {\n",
       "        text-align: right;\n",
       "    }\n",
       "</style>\n",
       "<table border=\"1\" class=\"dataframe\">\n",
       "  <thead>\n",
       "    <tr style=\"text-align: right;\">\n",
       "      <th></th>\n",
       "      <th>age_at_purchase</th>\n",
       "      <th>price$</th>\n",
       "    </tr>\n",
       "  </thead>\n",
       "  <tbody>\n",
       "    <tr>\n",
       "      <th>age_at_purchase</th>\n",
       "      <td>1.000000</td>\n",
       "      <td>-0.189458</td>\n",
       "    </tr>\n",
       "    <tr>\n",
       "      <th>price$</th>\n",
       "      <td>-0.189458</td>\n",
       "      <td>1.000000</td>\n",
       "    </tr>\n",
       "  </tbody>\n",
       "</table>\n",
       "</div>"
      ],
      "text/plain": [
       "                 age_at_purchase    price$\n",
       "age_at_purchase         1.000000 -0.189458\n",
       "price$                 -0.189458  1.000000"
      ]
     },
     "execution_count": 77,
     "metadata": {},
     "output_type": "execute_result"
    }
   ],
   "source": [
    "# alternatively, I use the correlation method provided by pandas, which gives the same result.\n",
    "data_sold_no_na[['age_at_purchase','price$']].corr()"
   ]
  },
  {
   "cell_type": "code",
   "execution_count": null,
   "id": "25363ce4-fc50-477e-bf4e-a822285abf1e",
   "metadata": {},
   "outputs": [],
   "source": []
  },
  {
   "cell_type": "code",
   "execution_count": 79,
   "id": "158ed644-eb3e-4546-832f-e4da7e4ab054",
   "metadata": {
    "tags": []
   },
   "outputs": [
    {
     "data": {
      "text/html": [
       "<div>\n",
       "<style scoped>\n",
       "    .dataframe tbody tr th:only-of-type {\n",
       "        vertical-align: middle;\n",
       "    }\n",
       "\n",
       "    .dataframe tbody tr th {\n",
       "        vertical-align: top;\n",
       "    }\n",
       "\n",
       "    .dataframe thead th {\n",
       "        text-align: right;\n",
       "    }\n",
       "</style>\n",
       "<table border=\"1\" class=\"dataframe\">\n",
       "  <thead>\n",
       "    <tr style=\"text-align: right;\">\n",
       "      <th></th>\n",
       "      <th>age_at_purchase</th>\n",
       "      <th>price$</th>\n",
       "    </tr>\n",
       "  </thead>\n",
       "  <tbody>\n",
       "    <tr>\n",
       "      <th>age_at_purchase</th>\n",
       "      <td>1.000000</td>\n",
       "      <td>-0.174439</td>\n",
       "    </tr>\n",
       "    <tr>\n",
       "      <th>price$</th>\n",
       "      <td>-0.174439</td>\n",
       "      <td>1.000000</td>\n",
       "    </tr>\n",
       "  </tbody>\n",
       "</table>\n",
       "</div>"
      ],
      "text/plain": [
       "                 age_at_purchase    price$\n",
       "age_at_purchase         1.000000 -0.174439\n",
       "price$                 -0.174439  1.000000"
      ]
     },
     "execution_count": 79,
     "metadata": {},
     "output_type": "execute_result"
    }
   ],
   "source": [
    "# pandas also handles NA values in its calculations, resulting in different values compared to the cleaned dataset. \n",
    "# This discrepancy arises because pandas employs distinct strategies for NA handling, rather than outright removal (as in dropna()).\n",
    "data_sold[['age_at_purchase','price$']].corr()"
   ]
  },
  {
   "cell_type": "code",
   "execution_count": null,
   "id": "482995c9-f435-4a42-88c1-23cb569ea440",
   "metadata": {},
   "outputs": [],
   "source": []
  },
  {
   "cell_type": "code",
   "execution_count": 81,
   "id": "6e986822-2543-40a3-9fd2-bd10241d44e6",
   "metadata": {
    "tags": []
   },
   "outputs": [
    {
     "data": {
      "text/html": [
       "<div>\n",
       "<style scoped>\n",
       "    .dataframe tbody tr th:only-of-type {\n",
       "        vertical-align: middle;\n",
       "    }\n",
       "\n",
       "    .dataframe tbody tr th {\n",
       "        vertical-align: top;\n",
       "    }\n",
       "\n",
       "    .dataframe thead th {\n",
       "        text-align: right;\n",
       "    }\n",
       "</style>\n",
       "<table border=\"1\" class=\"dataframe\">\n",
       "  <thead>\n",
       "    <tr style=\"text-align: right;\">\n",
       "      <th></th>\n",
       "      <th>age_at_purchase</th>\n",
       "      <th>price$</th>\n",
       "    </tr>\n",
       "  </thead>\n",
       "  <tbody>\n",
       "    <tr>\n",
       "      <th>age_at_purchase</th>\n",
       "      <td>1.000000</td>\n",
       "      <td>-0.174439</td>\n",
       "    </tr>\n",
       "    <tr>\n",
       "      <th>price$</th>\n",
       "      <td>-0.174439</td>\n",
       "      <td>1.000000</td>\n",
       "    </tr>\n",
       "  </tbody>\n",
       "</table>\n",
       "</div>"
      ],
      "text/plain": [
       "                 age_at_purchase    price$\n",
       "age_at_purchase         1.000000 -0.174439\n",
       "price$                 -0.174439  1.000000"
      ]
     },
     "execution_count": 81,
     "metadata": {},
     "output_type": "execute_result"
    }
   ],
   "source": [
    "# Using the original data (which includes NA values) for correlation calculation would give the same result as the 'data_sold' dataset.\n",
    "data[['age_at_purchase','price$']].corr()"
   ]
  },
  {
   "cell_type": "code",
   "execution_count": null,
   "id": "61205d86-6056-4ddb-bdc5-8e48a989b4ad",
   "metadata": {},
   "outputs": [],
   "source": []
  }
 ],
 "metadata": {
  "kernelspec": {
   "display_name": "Python 3 (ipykernel)",
   "language": "python",
   "name": "python3"
  },
  "language_info": {
   "codemirror_mode": {
    "name": "ipython",
    "version": 3
   },
   "file_extension": ".py",
   "mimetype": "text/x-python",
   "name": "python",
   "nbconvert_exporter": "python",
   "pygments_lexer": "ipython3",
   "version": "3.11.8"
  }
 },
 "nbformat": 4,
 "nbformat_minor": 5
}
